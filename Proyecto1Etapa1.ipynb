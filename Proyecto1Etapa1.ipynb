{
  "cells": [
    {
      "cell_type": "markdown",
      "source": [
        "# Proyecto 1 Etapa 1"
      ],
      "metadata": {
        "id": "7LeRJYp_qjB6"
      }
    },
    {
      "cell_type": "markdown",
      "metadata": {
        "id": "77vr5IhPajlS"
      },
      "source": [
        "# Trabajo en equipo (8%)"
      ]
    },
    {
      "cell_type": "markdown",
      "metadata": {
        "id": "9JnLZST1b7Ar"
      },
      "source": [
        "## Roles por integrante"
      ]
    },
    {
      "cell_type": "markdown",
      "metadata": {
        "id": "4Wn6KqAgdaZc"
      },
      "source": [
        "* Daniel Felipe Vargas Ulloa - d.vargasu@uniandes.edu.co\n",
        "  *   Rol: Lider de negocio\n",
        "\n",
        "\n",
        "\n",
        "* Daniel Escalante Perez - d.escalante@uniandes.edu.co\n",
        "  * Roles: Líder de datos y Líder de analítica\n",
        "\n",
        "* Santiago Chamie Rey - s.chamie@uniandes.edu.co\n",
        "  *   Rol: Lider de proyecto"
      ]
    },
    {
      "cell_type": "markdown",
      "metadata": {
        "id": "pY3xsYkfb8nQ"
      },
      "source": [
        "## Tareas realizadas por integrante"
      ]
    },
    {
      "cell_type": "markdown",
      "metadata": {
        "id": "pJG3Npe7vIkm"
      },
      "source": [
        "* Daniel Felipe Vargas Ulloa - d.vargasu@uniandes.edu.co\n",
        "  *   Tareas\n",
        "    * Modelado y evaluación: Naive Bayes classifier\n",
        "    * Entendimiento del negocio y enfoque analítico\n",
        "    * Resultados Video\n",
        "\n",
        "\n",
        "* Daniel Escalante Perez - d.escalante@uniandes.edu.co\n",
        "  * Tareas\n",
        "    * Modelado y evaluación: Logistic Regression\n",
        "    * Mapa de actores relacionado con el producto de datos creado\n",
        "    * Resultados Texto\n",
        "\n",
        "* Santiago Chamie Rey - s.chamie@uniandes.edu.co\n",
        "  *   Tareas:\n",
        "      *  Entendimiento y preparación de los datos.\n",
        "      *  Modelado y evaluación: Árbol de decisión"
      ]
    },
    {
      "cell_type": "markdown",
      "metadata": {
        "id": "Pl1DZ4K-cGUG"
      },
      "source": [
        "## Reflexión"
      ]
    },
    {
      "cell_type": "markdown",
      "metadata": {
        "id": "fXScZxujdp_f"
      },
      "source": [
        "El reto principal planteado por este proyecto fue aprender a aplicar los conceptos vistos sobre algoritmos de clasificación, a un tipo de clasificación particular, que es la clasificación de textos. Para esto nos tocó investigar maneras de preparar los datos para funcionar dentro de un esquema de clasificación además de buscar algoritmos nuevos que se adaptaran mejor a este tipo de ejercicio. Otro reto principal fue encontrar un modelo que pudieramos recomendarle a la empresa utilizar. Usando los algoritmos vistos en clase como KNN y árboles de decisión los resultados de las métricas no fueron los mejores, por lo que implementamos otro tipo de algoritmos, como el de regresión logística, el cual se usa comunmente para este tipo de clasificación. Otro reto que apareció fue el manejo de la RAM disponible por Google Colab, ya que, al estar trabajando en esta plataforma, tenemos una cantidad limitada de RAM para utiliza, y gracias al tamaño de los datos en este proyecto esta RAM se acababa. Para solucionar esto, al finalizar cada etapa del desarrollo borrabamos la variables que no se iban a volver a utilizar, así abriendo espacio para el código posterior.\n",
        "\n",
        "Dentro de los miembros del grupo repartiríamos los 100 puntos equitativamente entre todos ya que sentimos que todos contribuimos de manera significativa en el desarrollo del proyecto y sin la ayuda de todos lo hubieramos logrado los resultados que obtuvimos. Por eso a cada uno le asignaríamos 33.33.. o 100/3 puntos. No nos parecería justo darle a alguno más que al resto debido a que todos contribuimos por igual.\n",
        "\n",
        "Nuestra dinámica de grupo ha sido bastante buena durante el desarrollo del proyecto al igual que los laboratorios por lo que no tenemos quejas al respecto. Sin embargo, los puntos a mejorar y trabajar de ahora en adelante como grupo son la sincronización y la tranquilidad. Con respecto a la sincronización, cómo Google Colab no permite trabajar a dos personas a la vez sin crear conflictos de versión, tuvimos momentos donde alguien estaba trabajando y alguien más llegaba y creaba conflictos. Esto se solucionaría trabajando en intérvalos distintos o creando horarios de trabajo exclusivos. Con respecto a la tranquilidad, durante el desarrollo hubo varios momentos críticos donde el estrés a veces gana y lleva a tomar decisiones apuradas que pueden no ser las mejores."
      ]
    },
    {
      "cell_type": "markdown",
      "metadata": {
        "id": "FYsQyb5OcX3j"
      },
      "source": [
        "## Reuniones"
      ]
    },
    {
      "cell_type": "markdown",
      "metadata": {
        "id": "Io5Ag-SRciD7"
      },
      "source": [
        "\n",
        "\n",
        "*   Reunión de lanzamiento y planeación [4:00 pm | Marzo 20, 2024] [2h]\n",
        "*   Reunión de ideación [3:00 pm | Marzo 26, 2024] [30 min]\n",
        "*   Reunión de seguimiento semana 1 [6:00 pm | Marzo 30, 2024] [1h]\n",
        "*   Reunión de seguimiento semana 2 [6:00 pm | Abril 4, 2024] [30 min]\n",
        "*   Reunión de finalización [6:00 pm | Abril 6, 2024] [30 min]\n",
        "\n"
      ]
    },
    {
      "cell_type": "markdown",
      "metadata": {
        "id": "ejmKufkKaMrF"
      },
      "source": [
        "# Entendimiento y preparación de datos (20%)"
      ]
    },
    {
      "cell_type": "markdown",
      "metadata": {
        "id": "jl8yPL5we1tr"
      },
      "source": [
        "## Importación de librerias y carga de datos"
      ]
    },
    {
      "cell_type": "markdown",
      "source": [
        "Antes de empezar el entendimiento de los datos debemos importar las librerías que utilizaremos durante el desarrollo de este proyecto."
      ],
      "metadata": {
        "id": "6lLSok4aVqeN"
      }
    },
    {
      "cell_type": "code",
      "source": [
        "!pip install -q --upgrade pip"
      ],
      "metadata": {
        "colab": {
          "base_uri": "https://localhost:8080/"
        },
        "id": "jo9_tPKvGI7L",
        "outputId": "8bf7d08f-0955-4213-894b-f421f93b8e0a"
      },
      "execution_count": 1,
      "outputs": [
        {
          "output_type": "stream",
          "name": "stdout",
          "text": [
            "\u001b[2K     \u001b[90m━━━━━━━━━━━━━━━━━━━━━━━━━━━━━━━━━━━━━━━━\u001b[0m \u001b[32m2.1/2.1 MB\u001b[0m \u001b[31m7.5 MB/s\u001b[0m eta \u001b[36m0:00:00\u001b[0m\n",
            "\u001b[?25h"
          ]
        }
      ]
    },
    {
      "cell_type": "code",
      "execution_count": 2,
      "metadata": {
        "colab": {
          "base_uri": "https://localhost:8080/"
        },
        "id": "6ehVbjwpyASa",
        "outputId": "c6a8aac4-c7f0-46bc-a700-d58ad440a4fc"
      },
      "outputs": [
        {
          "output_type": "stream",
          "name": "stdout",
          "text": [
            "\u001b[?25l   \u001b[90m━━━━━━━━━━━━━━━━━━━━━━━━━━━━━━━━━━━━━━━━\u001b[0m \u001b[32m0.0/289.9 kB\u001b[0m \u001b[31m?\u001b[0m eta \u001b[36m-:--:--\u001b[0m\r\u001b[2K   \u001b[91m━━━━\u001b[0m\u001b[90m╺\u001b[0m\u001b[90m━━━━━━━━━━━━━━━━━━━━━━━━━━━━━━━━━━━\u001b[0m \u001b[32m30.7/289.9 kB\u001b[0m \u001b[31m2.5 MB/s\u001b[0m eta \u001b[36m0:00:01\u001b[0m\r\u001b[2K   \u001b[91m━━━━━━━━━━━━━━━━━━\u001b[0m\u001b[90m╺\u001b[0m\u001b[90m━━━━━━━━━━━━━━━━━━━━━\u001b[0m \u001b[32m133.1/289.9 kB\u001b[0m \u001b[31m1.8 MB/s\u001b[0m eta \u001b[36m0:00:01\u001b[0m\r\u001b[2K   \u001b[90m━━━━━━━━━━━━━━━━━━━━━━━━━━━━━━━━━━━━━━━━\u001b[0m \u001b[32m289.9/289.9 kB\u001b[0m \u001b[31m2.8 MB/s\u001b[0m eta \u001b[36m0:00:00\u001b[0m\n",
            "\u001b[?25h\u001b[?25l   \u001b[90m━━━━━━━━━━━━━━━━━━━━━━━━━━━━━━━━━━━━━━━━\u001b[0m \u001b[32m0.0/110.7 kB\u001b[0m \u001b[31m?\u001b[0m eta \u001b[36m-:--:--\u001b[0m\r\u001b[2K   \u001b[90m━━━━━━━━━━━━━━━━━━━━━━━━━━━━━━━━━━━━━━━━\u001b[0m \u001b[32m110.7/110.7 kB\u001b[0m \u001b[31m6.5 MB/s\u001b[0m eta \u001b[36m0:00:00\u001b[0m\n",
            "\u001b[?25h\u001b[33mWARNING: Running pip as the 'root' user can result in broken permissions and conflicting behaviour with the system package manager. It is recommended to use a virtual environment instead: https://pip.pypa.io/warnings/venv\u001b[0m\u001b[33m\n",
            "\u001b[0m\u001b[33mWARNING: Running pip as the 'root' user can result in broken permissions and conflicting behaviour with the system package manager. It is recommended to use a virtual environment instead: https://pip.pypa.io/warnings/venv\u001b[0m\u001b[33m\n",
            "\u001b[0m\u001b[33mWARNING: Running pip as the 'root' user can result in broken permissions and conflicting behaviour with the system package manager. It is recommended to use a virtual environment instead: https://pip.pypa.io/warnings/venv\u001b[0m\u001b[33m\n",
            "\u001b[0m\u001b[33mWARNING: Running pip as the 'root' user can result in broken permissions and conflicting behaviour with the system package manager. It is recommended to use a virtual environment instead: https://pip.pypa.io/warnings/venv\u001b[0m\u001b[33m\n",
            "\u001b[0m\u001b[33mWARNING: Running pip as the 'root' user can result in broken permissions and conflicting behaviour with the system package manager. It is recommended to use a virtual environment instead: https://pip.pypa.io/warnings/venv\u001b[0m\u001b[33m\n",
            "\u001b[2K     \u001b[90m━━━━━━━━━━━━━━━━━━━━━━━━━━━━━━━━━━━━━━━━\u001b[0m \u001b[32m12.9/12.9 MB\u001b[0m \u001b[31m61.6 MB/s\u001b[0m eta \u001b[36m0:00:00\u001b[0m\n",
            "\u001b[?25h\u001b[33mWARNING: Running pip as the 'root' user can result in broken permissions and conflicting behaviour with the system package manager. It is recommended to use a virtual environment instead: https://pip.pypa.io/warnings/venv\u001b[0m\u001b[33m\n",
            "\u001b[0m\u001b[38;5;2m✔ Download and installation successful\u001b[0m\n",
            "You can now load the package via spacy.load('es_core_news_sm')\n",
            "\u001b[38;5;3m⚠ Restart to reload dependencies\u001b[0m\n",
            "If you are in a Jupyter or Colab notebook, you may need to restart Python in\n",
            "order to load all the package's dependencies. You can do this by selecting the\n",
            "'Restart kernel' or 'Restart runtime' option.\n"
          ]
        },
        {
          "output_type": "stream",
          "name": "stderr",
          "text": [
            "[nltk_data] Downloading package punkt to /root/nltk_data...\n",
            "[nltk_data]   Unzipping tokenizers/punkt.zip.\n",
            "[nltk_data] Downloading package stopwords to /root/nltk_data...\n",
            "[nltk_data]   Unzipping corpora/stopwords.zip.\n",
            "[nltk_data] Downloading package wordnet to /root/nltk_data...\n"
          ]
        },
        {
          "output_type": "execute_result",
          "data": {
            "text/plain": [
              "True"
            ]
          },
          "metadata": {},
          "execution_count": 2
        }
      ],
      "source": [
        "# Librería para manejar las contracciones que se presentan en el inglés.\n",
        "!pip install -q contractions\n",
        "# librería para manejar las flexiones gramaticales en el idioma inglés.\n",
        "!pip install -q inflect\n",
        "# Manejo de gráficas\n",
        "!pip install -q scikit-plot\n",
        "#YAYY\n",
        "!pip install -q -U spacy\n",
        "!pip install -q pandas\n",
        "!python -m spacy download es_core_news_sm -q\n",
        "\n",
        "# librería Natural Language Toolkit, usada para trabajar con textos\n",
        "import nltk\n",
        "# Punkt permite separar un texto en frases.\n",
        "nltk.download('punkt')\n",
        "# Descarga todas las palabras vacias, es decir, aquellas que no aportan nada al significado del texto\n",
        "nltk.download('stopwords')\n",
        "# Descarga de paquete WordNetLemmatizer, este es usado para encontrar el lema de cada palabra\n",
        "nltk.download('wordnet')\n"
      ]
    },
    {
      "cell_type": "code",
      "execution_count": 3,
      "metadata": {
        "id": "IY4GKABtyN8m",
        "colab": {
          "base_uri": "https://localhost:8080/"
        },
        "outputId": "9b27c543-d3fb-4352-a7e2-dff4dd2a5a51"
      },
      "outputs": [
        {
          "output_type": "stream",
          "name": "stdout",
          "text": [
            "  Preparing metadata (setup.py) ... \u001b[?25l\u001b[?25hdone\n",
            "\u001b[33mWARNING: visions 0.7.6 does not provide the extra 'type-image-path'\u001b[0m\u001b[33m\n",
            "\u001b[2K   \u001b[90m━━━━━━━━━━━━━━━━━━━━━━━━━━━━━━━━━━━━━━━━\u001b[0m \u001b[32m324.4/324.4 kB\u001b[0m \u001b[31m2.1 MB/s\u001b[0m eta \u001b[36m0:00:00\u001b[0m\n",
            "\u001b[2K   \u001b[90m━━━━━━━━━━━━━━━━━━━━━━━━━━━━━━━━━━━━━━━━\u001b[0m \u001b[32m357.9/357.9 kB\u001b[0m \u001b[31m3.6 MB/s\u001b[0m eta \u001b[36m0:00:00\u001b[0m\n",
            "\u001b[2K   \u001b[90m━━━━━━━━━━━━━━━━━━━━━━━━━━━━━━━━━━━━━━━━\u001b[0m \u001b[32m296.5/296.5 kB\u001b[0m \u001b[31m4.2 MB/s\u001b[0m eta \u001b[36m0:00:00\u001b[0m\n",
            "\u001b[2K   \u001b[90m━━━━━━━━━━━━━━━━━━━━━━━━━━━━━━━━━━━━━━━━\u001b[0m \u001b[32m686.1/686.1 kB\u001b[0m \u001b[31m4.3 MB/s\u001b[0m eta \u001b[36m0:00:00\u001b[0m\n",
            "\u001b[2K   \u001b[90m━━━━━━━━━━━━━━━━━━━━━━━━━━━━━━━━━━━━━━━━\u001b[0m \u001b[32m293.3/293.3 kB\u001b[0m \u001b[31m3.7 MB/s\u001b[0m eta \u001b[36m0:00:00\u001b[0m\n",
            "\u001b[2K   \u001b[90m━━━━━━━━━━━━━━━━━━━━━━━━━━━━━━━━━━━━━━━━\u001b[0m \u001b[32m104.8/104.8 kB\u001b[0m \u001b[31m1.7 MB/s\u001b[0m eta \u001b[36m0:00:00\u001b[0m\n",
            "\u001b[?25h  Building wheel for htmlmin (setup.py) ... \u001b[?25l\u001b[?25hdone\n",
            "\u001b[33mWARNING: Running pip as the 'root' user can result in broken permissions and conflicting behaviour with the system package manager. It is recommended to use a virtual environment instead: https://pip.pypa.io/warnings/venv\u001b[0m\u001b[33m\n",
            "\u001b[0m"
          ]
        }
      ],
      "source": [
        "# Instalación de librerias\n",
        "import pandas as pd\n",
        "import numpy as np\n",
        "import sys\n",
        "!{sys.executable} -m pip install -q pandas-profiling\n",
        "\n",
        "import re, string, unicodedata\n",
        "import contractions\n",
        "import inflect\n",
        "from nltk import word_tokenize, sent_tokenize\n",
        "from nltk.corpus import stopwords\n",
        "from nltk.stem import SnowballStemmer, WordNetLemmatizer\n",
        "\n",
        "from sklearn.model_selection import train_test_split,GridSearchCV\n",
        "from sklearn.feature_extraction.text import TfidfVectorizer, CountVectorizer, HashingVectorizer\n",
        "from sklearn.pipeline import Pipeline, FeatureUnion\n",
        "from sklearn.svm import SVC\n",
        "from sklearn.ensemble import BaggingClassifier, RandomForestClassifier, AdaBoostClassifier\n",
        "from sklearn.naive_bayes import BernoulliNB\n",
        "from sklearn.naive_bayes import GaussianNB\n",
        "from sklearn.metrics import classification_report, confusion_matrix\n",
        "\n",
        "from sklearn.tree import DecisionTreeClassifier\n",
        "from sklearn.neighbors import KNeighborsClassifier\n",
        "from sklearn.model_selection import train_test_split\n",
        "from sklearn.metrics import confusion_matrix, classification_report, precision_score, recall_score, f1_score, accuracy_score\n",
        "from sklearn.metrics import ConfusionMatrixDisplay\n",
        "\n",
        "from sklearn.model_selection import GridSearchCV\n",
        "from sklearn.model_selection import KFold\n",
        "import matplotlib.pyplot as plt\n",
        "\n",
        "import seaborn as sns\n",
        "from sklearn import tree\n",
        "import sklearn as sklearn\n",
        "\n",
        "from sklearn.base import BaseEstimator, ClassifierMixin\n",
        "\n",
        "import matplotlib.pyplot as plt"
      ]
    },
    {
      "cell_type": "markdown",
      "source": [
        "Con las librerías importadas hacemos la carga de los datos en un dataframe de pandas."
      ],
      "metadata": {
        "id": "y6MzwdH8VxcP"
      }
    },
    {
      "cell_type": "code",
      "execution_count": 4,
      "metadata": {
        "id": "FVGrtfwMy-Hh"
      },
      "outputs": [],
      "source": [
        "# Uso de la libreria pandas para la lectura de archivos\n",
        "data=pd.read_csv('tipo1_entrenamiento_estudiantes.csv', sep=',', encoding = 'utf-8')\n",
        "# Asignación a una nueva variable de los datos leidos\n",
        "data_t=data"
      ]
    },
    {
      "cell_type": "code",
      "execution_count": 5,
      "metadata": {
        "id": "GOXr9NphzTGa",
        "colab": {
          "base_uri": "https://localhost:8080/"
        },
        "outputId": "277ba21e-12c7-480b-9d55-8a5114ccf807"
      },
      "outputs": [
        {
          "output_type": "stream",
          "name": "stdout",
          "text": [
            "<class 'pandas.core.frame.DataFrame'>\n",
            "RangeIndex: 7875 entries, 0 to 7874\n",
            "Data columns (total 2 columns):\n",
            " #   Column  Non-Null Count  Dtype \n",
            "---  ------  --------------  ----- \n",
            " 0   Review  7875 non-null   object\n",
            " 1   Class   7875 non-null   int64 \n",
            "dtypes: int64(1), object(1)\n",
            "memory usage: 123.2+ KB\n"
          ]
        }
      ],
      "source": [
        "data_t.info()"
      ]
    },
    {
      "cell_type": "markdown",
      "metadata": {
        "id": "LnqWXTVVe6dM"
      },
      "source": [
        "## Entendimiento"
      ]
    },
    {
      "cell_type": "markdown",
      "source": [
        "Cómo los datos dados tienen tan pocas columnas, creamos una variable 'textos' con datos analíticos de estos con el fin de poderlos análizar."
      ],
      "metadata": {
        "id": "UsnV2cqIWTjI"
      }
    },
    {
      "cell_type": "code",
      "execution_count": 6,
      "metadata": {
        "colab": {
          "base_uri": "https://localhost:8080/"
        },
        "id": "cai_1WdWzv1u",
        "outputId": "0108cf97-2b5f-48b5-ac95-a63b9d71ef42"
      },
      "outputs": [
        {
          "output_type": "stream",
          "name": "stdout",
          "text": [
            "             Class        Conteo          Max          Min         Moda\n",
            "count  7875.000000   7875.000000  7875.000000  7875.000000  7875.000000\n",
            "mean      3.491683    407.945016    13.211429     0.848254     2.323937\n",
            "std       1.328275    434.744952     3.125050     0.507458     0.937780\n",
            "min       1.000000     33.000000     7.000000     0.000000     0.000000\n",
            "25%       2.000000    201.000000    11.000000     1.000000     2.000000\n",
            "50%       4.000000    271.000000    13.000000     1.000000     2.000000\n",
            "75%       5.000000    503.000000    14.000000     1.000000     2.000000\n",
            "max       5.000000  14129.000000   125.000000     4.000000    11.000000\n"
          ]
        }
      ],
      "source": [
        "from scipy import stats as st\n",
        "\n",
        "textos = data_t.copy()\n",
        "textos['Conteo'] = [len(x) for x in textos['Review']]\n",
        "textos['Max'] = [[max([len(x) for x in i.split(' ')])][0] for i in textos['Review']]\n",
        "textos['Min'] = [[min([len(x) for x in i.split(' ')])][0] for i in textos['Review']]\n",
        "textos['Moda'] = [st.mode([len(x) for x in i.split(' ')])[0] for i in textos['Review']]\n",
        "print(textos.describe())\n"
      ]
    },
    {
      "cell_type": "markdown",
      "metadata": {
        "id": "mTcixTDfwgaW"
      },
      "source": [
        "Podemos ver que existen valores muy atípicos, como palabras de 125 letras y reviews de 14000 palabras, que vale la pena revisar. A parte de esto, los valores promedio son importantes para tener en cuenta."
      ]
    },
    {
      "cell_type": "code",
      "execution_count": 7,
      "metadata": {
        "colab": {
          "base_uri": "https://localhost:8080/",
          "height": 472
        },
        "id": "SpNp-5i51SQj",
        "outputId": "08924de0-dab5-4981-eede-22897f8539b4"
      },
      "outputs": [
        {
          "output_type": "display_data",
          "data": {
            "text/plain": [
              "<Figure size 640x480 with 1 Axes>"
            ],
            "image/png": "[encoded data removed]"
          },
          "metadata": {}
        }
      ],
      "source": [
        "# Get the value counts for the 'Class' column\n",
        "class_counts = data_t['Class'].value_counts()\n",
        "\n",
        "# Create a bar chart\n",
        "plt.bar(class_counts.index, class_counts.values)\n",
        "plt.xlabel('Class')\n",
        "plt.ylabel('Count')\n",
        "plt.title('Bar Graph of Class Values')\n",
        "plt.show()\n"
      ]
    },
    {
      "cell_type": "markdown",
      "metadata": {
        "id": "7TuCauAZwyVF"
      },
      "source": [
        "Evidenciamos que es más común que existan reviews positivos que negativos. Esto puede llegar a ser importante con respecto a que un modelo podría llegar a tender a predecir valores de 5 ya que son los más comunes, a pesar de que las palabras digan lo contrario."
      ]
    },
    {
      "cell_type": "code",
      "execution_count": 8,
      "metadata": {
        "colab": {
          "base_uri": "https://localhost:8080/",
          "height": 527
        },
        "id": "2aH4U5cI2IZn",
        "outputId": "040f0dcf-b1a4-4638-a571-8f489784f9d3"
      },
      "outputs": [
        {
          "output_type": "display_data",
          "data": {
            "text/plain": [
              "<Figure size 1000x600 with 4 Axes>"
            ],
            "image/png": "[encoded data removed]"
          },
          "metadata": {}
        }
      ],
      "source": [
        "fig, axes = plt.subplots(2, 2, figsize=(10, 6))\n",
        "\n",
        "# Conteo\n",
        "axes[0, 0].boxplot(textos['Conteo'], vert=False)\n",
        "axes[0, 0].set_title('Conteo')\n",
        "\n",
        "# Min\n",
        "axes[0, 1].boxplot(textos['Min'], vert=False)\n",
        "axes[0, 1].set_title('Min')\n",
        "\n",
        "# Max\n",
        "axes[1, 0].boxplot(textos['Max'], vert=False)\n",
        "axes[1, 0].set_title('Max')\n",
        "\n",
        "# Moda\n",
        "axes[1, 1].boxplot(textos['Moda'], vert=False)\n",
        "axes[1, 1].set_title('Moda')\n",
        "\n",
        "plt.tight_layout()\n",
        "plt.show()\n"
      ]
    },
    {
      "cell_type": "code",
      "execution_count": 9,
      "metadata": {
        "colab": {
          "base_uri": "https://localhost:8080/"
        },
        "id": "iE-40ZCbutVq",
        "outputId": "130a2029-4871-4602-84d8-056359d0d746"
      },
      "outputs": [
        {
          "output_type": "stream",
          "name": "stdout",
          "text": [
            "A nuestra llegada a Marival Residences nos tocó que estaban evacuando el hotel por lo del huracan patricia, lo cual no fuimos informados en el marival resort del cual acababamos de hacer chek-out y sabian que ibamos al residences para quedarnos 4 noches mas y celebrar nuestra boda; por lo cual nos toco llegar y regresarnos al resort ya que ahi tenian un salón seguro para pasar el huracan, estuvimos ahi desde las 12pm hasta las 10pm que afortunadamente no paso a mayores y nos pudieron entregar la habitación, cabe mencionar que mientras estuvimos ahi recibimos un excelente trato de la gerente del hotel la cual nos estuvo informando cada noticia y tranquilizandonos, hizo un excelente trabajo!!!, habia alimentos para todos y bebidas suficientes, lo unico que teniamos que hacer unas interminables filas para comer y cenar y en mi estado de embarazo en el que iba fue algo dificil, y más al llegar al hotel cuando nos entregaron la habitación nos informaron que durante esa noche y al día siguiente para el desayuno no tendrian servicio de alimentos en ningun restaurante del hotel ni room service, lo cual por mi estado de embarazo fue algo dificil ya que en la cena habian ofrecido solo hamburguesas y hot dogs y como soy vegetariana me toco comerme el puro pan con algunos vegetales lo cual fue muy ligero y al menos esperaba ver en mi habitación alguna galleta o cualquier cosa en recompensa por no tener servicio de alimentos y por el cansancio preferí no salir a buscar algun restaurante. Al día siguiente por lo mismo tuvimos que ir a desayunar al resort (practicamente sin haber cenado y con las nauseas del embarazo fue incomodo tener q trasladarme al otro hotel para desayunar) en conclusión de esta situación de nuestra llegada los detalles en contra fueron que no recibimos una bienvenida a la altura de la categoria de este hotel,simplemente nos entregaron las llaves de la habitación y nos llevaron el equipaje,(el botones muy amable) lo cual comprendimos por la situación del huaracan pero si esperabamos al día siguiente que ya estaba abierta la recepción ser atendidos con alguna bebida una sonrisa (como estamos acostumbrados a que nos traten en otros hoteles de la misma categoria como Grand Velas y Casa Velas) y sin embargo solo nos dejaron ahi parados en la recepción como si hubieramos llegado a un hotel categoria 2 estrellas, ahi nos registraron con un trato como si nos estuvieran haciendo el favor y en ningun momento nos ofrecieron sentarnos en el loby, ofrecernos alguna bebida y atendernos ahi como es costumbre de otros hoteles de esta categoria. (personal de recepción poca amabilidad parece que uno llega a las oficinas de alguna institución publica donde regularmente les da la misma hacer el esfuerzo por ser agradables y mas tratandose de turismo deberian tener mas preparación en esta area) y referente al costo de esa primera noche que fueron alrededor de $12,000 pesos considero que no obtuvios lo esperado (en un todo incluido) ya que solo pasamos la noche, por la situación q arriba mencione hubo servicio de alimentos hasta el día siguiente al medio día. (practicamente ese horario ya contaba como la segunda noche pagada otros 12 mil) por lo cual quede inconforme de no haber recibido de menos alguna fruta en nuestra habitación, ya que nosotros comprendimos totalmente la amenaza del huracan pero ya al entregarnos nuestra habitación no impedia que nos ofrecieran al menos alimentos como fruta, galletas etc ya que no tenian personal en los restaurantes pero si la noche se pago en su totalidad lo cual quede un poco inconforme. Cabe mencionar que el paquete de bodas incluía una canasta de frutas a la llegada, la cual no recibimos (detalle que no le dimos importancia en su momento, pero si se me fue acabando la paciencia en el transcurso de nuestra estancia por los demas detalles que seguire describiendo)\n",
            "\n",
            "Lo que si nos gusto: las instalaciones en general estan encantadoras, dignas de categoria 4 diamantes, las habitaciones muy lujosas, muy comodas, con sala, cocina completa,terraza con excelente vista. Nuestra residencia (los novios) estaba en planta baja con terraza y alberca al salir, nos encanto que apesar que era de 1 dormitorio contaba con 2 baños completos. La residencia de nuestros papás estaba en los ultimos pisos con una excelente vista al mar, también les encantó!\n",
            "el amplio horario de la alberca, el jacuzzi con excelente temperatura a 38°\n",
            "desayuno y comida estaba bien, la cena estaba excelente muy rica, el cheff de lemmon Grass durante la cena muy amable salio a preguntar si nos habia gustado y la verdad una deliciosa cena de autor, los meseros de este mismo restaurante muy atentos, amables un excelente servicio. El personal de club de playa otro nivel extremadamente amables, lo que si note fue que el personal que esta en el resort ya sea en la sección de club de playa u oficinas son mas amables como que les dan otro tipo de capacitación que los del residences, la gerente amable totalmente y muy preparada también Salvador Olmos de catering services nos dio un excelente trato desde que estuvimos planeando la boda, la verdad mucho tuvo que ver el en que eligieramos marival residences para nuestra boda por la información que nos dio, incluso fuimos a conocer el hotel 3 meses antes de nuestra boda y el nos dio un tour por los dos hoteles, estuvo en comunicación con nosotros desde antes y durate la boda muy amable muy profesional, el gazebo nos encantó, una decoración hermosa, muchas flores (mas flores y mejor decoración que otros hoteles en cuestion de boda) el brindis con champagne fue un gran detalle, incluso salvador olmos estuvo al pendiente de todo hasta entregarnos nuestra acta de matrimonio, quedamos muy satisfechos en especial con el por que gracias a sus servicios nuestra boda estuvo perfecta en cada detalle. Queremos felicitar en especial a él por su profesionalismo y dedicación en su trabajo, es un muy buen elemento para el grupo marival, son de esas personas que hacen que valga la pena el haber elegido a marival residences para una ocasión tan especial como lo fue nuestra boda!!!\n",
            "\n",
            "la boda perfecta!!!\n",
            "\n",
            "PERO...(no por unos pierden todos por eso quiero especificar cada detalle) hubo unos ultimos detalles que me decepcionaron del personal de recepción (aparte de la pesima bienvenida que mencione al principio)\n",
            "\n",
            "1. Les comentamos que el agua de la regadera de nuestra habitación estaba entre fria y tibia (para nada se acercaba a lo caliente) y al parecer no hicieron nada porque estuvimos 6 días con agua fria a excepción de la noche de nuestra llegada que nos mencionaron que acababan de prender el boiler y efectivamente esa noche si hubo agua caliente (la unica noche).\n",
            "\n",
            "2. al concluir nuestra reservacion de 4 noches y 5 días, decidimos quedarnos una noche más, por lo cual le pedimos a la gerente (creo que era de piso o sub gerente muy amable por cierto) que nos facilitara una computadora para realizar la reservación por internet directamente en la pagina web de marival (que por cierto tienen mas descuento haciendolo por este medio, muy recomendable para cuando realicen sus reservaciones) la sub gerente muy atenta nos mando con la señorita concerge la cual le hace falta preparación para este puesto que es muy importante ya que es tipo relaciones publicas, está en contacto directo con el huesped y es indespensable ser demasiado coordial, bueno tal que le tuve que explicar q la sub gerente ya nos habia autorizado hacer uso de la computadora y del telefono para realizar una llamada a un 01800 a banamex para realizar el pago de la noche extra, por lo cual nos decia que haber si no le cobraban a ella las llamadas.\n",
            "Lo que en otros hoteles se comportan totalmente amables y agradecidos de elegir al hotel para una noche extra y hasta hacen todo lo posible por que uno se quede mas noches (lo que vimos en concerge y recepción que a ellos les da totalmente igual si uno se queda mas noches, o todo lo relacionado con que el hotel gane o pierda, su actitud es como practicamente diciendo yo recibo mi sueldo de cualquier manera, asi el hotel gane o pierda asi que no hacen esfuerzo alguno por ser coordiales) el colmo fue cuando llegue con el de recepción (se acababa de ir max nos atendió el otro chico) y nos menciono que porque no habiamos hecho la reservación mas temprano que todavía no le iba aparecer, (comentario que no fue muy coordial que digamos ya que acababamos de decidir quedarnos una noche mas, hicimos el pago minutos antes de las 12 en cuanto venció la habitación pero estabamos a tiempo) se comunico con elizabeth de reservaciones quien desde un principio nos atendió muy amable y se soluciono. (pero por si solos los de recepción no pueden resolver nada, detalle grave ya que son la principal imagen del hotel)\n",
            "\n",
            "3.- por el detalle del agua fria las dos ultimas noches no quise salir a cenar por que ya traia resfriado por lo cual me dormia temprano como a las 8pm y a las 3am que desperte la penultima noche ordene a la habitación un té y un consome para ver si lo caliente me ayudaba a mi resfriado... (cabe mencionar que el servicio muy lento, se tardaban mucho en room service desde los primeros días que estuve solicitando servicio)... bueno, cual fue mi sorpresa que al día siguiente de haber hecho este pedido nocturno me quede sin linea telefonica, por todo el dia la siguiente noche y el medio día antes de hacer chek out (larededor de 29 hrs sin linea) algo para tomar en cuenta es que en el menu especifica que hay servicio toda la noche de 11pm a 7am el servicio nocturno, aparte de que uno paga el 10% de servicio, por lo cual no deberian de negar el servicio como yo lo senti cuando al no tener línea telefonica yo fui a recepción a darlos por enterados de la situación a lo cual me dijeron que en un momento iban a resolverlo, lo cual no paso ya que como menciono esa noche tambien me dormi temprano no fui a cenar y en la noche como a las 12hrs trate de pedir cena y seguia sin linea por lo cual me quede sin cenar. Al dia siguiente desayunamos temprano les volvi a mencionar de la linea de nuevo que iban a resolverlo... como a las 11:30am queria comer algo ligero y como seguia sin linea fui a Lemmon Grass junto a la alberca, hasta que lei toda la carta me dice el mesero que no tenian servicio que hasta las 12pm abrian que llamara a room service desde mi habitación, por lo cual volvi a ir a la recepción a mencionar que no tenia línea y yo queriendo comer algo ligero antes de hacer chek out fui de nuevo a ommagio donde ya temprano habia desayunado, llego y la señorita de la entrada me pregunta el numero de mi habitación, al mencioanarlo lo checa en la lista y me dice ya vinieron a desayunar se acaba de ir la pareja (yo en esta ocasion iba sola ya que mi esposo se habia quedado en la habitación haber si de casualidad arreglaban la linea telefonica para pedir algo) entonces le digo a la señorita que si me podian atender yo un poco molesta le mencione que en la alberca no habia aun servicio, no tenia linea, no podia comer en ningun lado!!! fui de nuevo a recepción le dije que me prestara el telefono para hacer un pedido a room service me dijo que no, que ya iban a arreglarlo, yo ya no creí nada y regrese a ommagio no me quedo de otra mas que desayunar de nuevo ya que tenian el menu aun de desayunos. regrese a mi habitación faltando 10 a las 12 ya solo para empacar y que llega por fin el tecnico a solucionar lo de la línea, pero nosotros ya estabamos desocupando la habitación. (pasamos un estress y claro estabamos arrepentidos de haber pagado una noche mas en marival residences ya que habiamos contemplado irnos a casa velas esa noche extra y pues les dimos la preferencia a ustedes pensando que ya estabamos ahi y por no movernos, pero no pensabamos que iba a pasar todo esto)\n",
            "4.- otro detalle fue que el lunes temprano nos recogieron todo del refrigerador, (segun pensando que ya nos ibamos) teniamos pagado desde un principio hasta el martes y ya al ultimo como lo menciono pagamos otra noche para salir el miercoles.\n",
            "\n",
            "5.- el ultimo detalle desagradable fue que no nos hicieron valido la promoción de reembolso de casetas y bono de gasolina por 500 pesos como lo tienen anunciado al hacer la reservación en la pagina web de marival residences. Nos menciono el de recepción que para hacer valido eran minimo 2 noches y nos quedamos 5 noches, al decirle esto nos dijo que de cualquier manera no podia hacerlo valido porque traíamos los tickets de la caseta del día jueves y habiamos hecho chekin el viernes, por lo cual le mencionamos que el jueves llegamos al marival resort hotel de la misma cadena ya que nos pidieron que llegaramos antes de la boda para entregar los examenes medicos obligatorios,(reitero que en marival residences fue nuestra boda y las oficinas de catering estan el el resort por eso se nos hizo facil llegar la primera noche al resort) por lo cual le mencione en recepción que estabamos en el marival resort que de lo contrario hubieramos llegado el viernes y no hubieramos pagado esa noche del jueves y obvio como empresa marival supongo que les conviene que entre mas noches se quede uno mejor, se supone que se esta consumiendo más (aunque como mencioné mas arriba, a los de recepción les da igual que el hotel gane o pierda, actitud que no creo que la gerente este enterada de tanta frialdad ya que ella es muy atenta) bueno tal que nos dijo que el sistema no se lo permitia hacer efectiva dicha promoción y que no era su problema (nos quedamos impactados con esta actitud) nuestros papas si llegaron el viernes se quedaron 3 noches, y pues el viernes que llegaron fue el día del huracan no estaban cobrando casetas pero minimo hacer valido el vale de gasolina y pues tampoco hicieron valido... nada, nada, nada salimos algo molestos no tanto por no haber recibido el reembolso sino por la pesima actitud de que no era su problema\n",
            "\n",
            "al menos al salir los chicos de botones muy amables con una gran sonrisa nos despidieron, cabe mencionar que toda nuestra estancia estuvieron muy amables ellos si hacen su trabajo a la altura del hotel, una felicitación para ellos ya que como menciono no por unos pierden todos.\n"
          ]
        }
      ],
      "source": [
        "# Validación de los reviews más extraños\n",
        "print(textos.loc[textos['Conteo'].idxmax()]['Review'])"
      ]
    },
    {
      "cell_type": "code",
      "execution_count": 10,
      "metadata": {
        "colab": {
          "base_uri": "https://localhost:8080/"
        },
        "id": "uvIDpeVPwO98",
        "outputId": "25723e19-c5be-4acf-9f35-66d423a29d5a"
      },
      "outputs": [
        {
          "output_type": "stream",
          "name": "stdout",
          "text": [
            "Es un hotel que en relación a su costo no ofrece una estadía que ofrezca un viaje placentero. Las habitaciones son viejas y tienen humedad. El personal no es muy servicial y amable. La calidad de la comida no es buena en relación con su precio. Lo único bueno es el bar y piscina de la torre del mar..........................................................................................................................\n"
          ]
        }
      ],
      "source": [
        "print(textos.loc[textos['Max'].idxmax()]['Review'])"
      ]
    },
    {
      "cell_type": "code",
      "execution_count": 11,
      "metadata": {
        "colab": {
          "base_uri": "https://localhost:8080/"
        },
        "id": "4WkKKzmMzzOq",
        "outputId": "f3a11a76-0591-45bf-e388-bc09fa63ccc6"
      },
      "outputs": [
        {
          "output_type": "stream",
          "name": "stdout",
          "text": [
            "buen lugar, pero demasiado caro para comer comida mexicana.\n"
          ]
        }
      ],
      "source": [
        "print(textos.loc[textos['Min'].idxmax()]['Review'])"
      ]
    },
    {
      "cell_type": "code",
      "execution_count": 12,
      "metadata": {
        "colab": {
          "base_uri": "https://localhost:8080/"
        },
        "id": "lAx0qh6hE6lo",
        "outputId": "1055d7d5-feca-4916-95d9-b948bd78a268"
      },
      "outputs": [
        {
          "output_type": "stream",
          "name": "stdout",
          "text": [
            "La mejor experiencia de la historia precolombina y la importancia del oro como una interesante informacion sobre las comunidades indigenas colombianas\n"
          ]
        }
      ],
      "source": [
        "print(textos.loc[textos['Moda'].idxmax()]['Review'])"
      ]
    },
    {
      "cell_type": "markdown",
      "metadata": {
        "id": "AN0aILdmw3CS"
      },
      "source": [
        "Con estos dos ejemplos podemos corroborar que aunque los Reviews sean atípicos tienen información válida. El caso de la palabras de 125 letras fue que se le fueron muchos puntos, que serían eliminados con la ejecución de los algoritmos, y el de 14000 palabras seguía siendo válido además de muy completo. Con el proceso de preparación de datos estos valores atípicos podrían llegar a reducirse con la eliminación de stopwords entre otras cosas."
      ]
    },
    {
      "cell_type": "markdown",
      "metadata": {
        "id": "SkkIyeTHe8Ez"
      },
      "source": [
        "## Preparación"
      ]
    },
    {
      "cell_type": "markdown",
      "metadata": {
        "id": "9l5tzxx00EIv"
      },
      "source": [
        "### Limpieza"
      ]
    },
    {
      "cell_type": "markdown",
      "metadata": {
        "id": "Uv_S4i-Kyc-m"
      },
      "source": [
        "Para empezar a preparar los datos debemos: eliminar los valores no ascii, poner todas las palabras en minúscula, eliminar la puntuación, reemplazar los números por palabras y eliminar las stopwords."
      ]
    },
    {
      "cell_type": "code",
      "execution_count": 13,
      "metadata": {
        "id": "jQh5W3sFxbI0"
      },
      "outputs": [],
      "source": [
        "stop_words_spanish = set(stopwords.words('spanish'))\n",
        "\n",
        "def remove_non_ascii(words):\n",
        "    return [unicodedata.normalize('NFKD', word).encode('ascii', 'ignore').decode('utf-8', 'ignore') if word is not None else None for word in words]\n",
        "\n",
        "def to_lowercase(words):\n",
        "    return [word.lower() for word in words]\n",
        "\n",
        "def remove_punctuation(words):\n",
        "    return [re.sub(r'[^\\w\\s]', '', word) if word is not None else None for word in words]\n",
        "\n",
        "def replace_numbers(words):\n",
        "    p = inflect.engine()\n",
        "    return [p.number_to_words(word) if word.isdigit() else word for word in words if not any(char.isdigit() for char in word)]\n",
        "\n",
        "def remove_stopwords(words):\n",
        "    return [word for word in words if word not in stop_words_spanish]\n",
        "\n",
        "def remove_accidentals(words):\n",
        "    replacements = {'á': 'a', 'é': 'e', 'í': 'i', 'ó': 'o', 'ú': 'u', 'ü': 'u'}\n",
        "    return [''.join(replacements[char] if char in replacements else char for char in word) for word in words]\n",
        "\n",
        "def preprocessing(words):\n",
        "    words = to_lowercase(words)\n",
        "    words = replace_numbers(words)\n",
        "    words = remove_punctuation(words)\n",
        "    words = remove_non_ascii(words)\n",
        "    words = remove_stopwords(words)\n",
        "    return words"
      ]
    },
    {
      "cell_type": "markdown",
      "source": [
        "La función preprocessing nos sirve de referencia ya que esta hace el proceso de eliminar el ruido de los datos y dejar unicamente las palabras clave. Este será útil a la hora de tokenizar, tanto en el desarrollo de los algoritmos y predecir el puntaje de los datos, como a la hora de construir el pipeline."
      ],
      "metadata": {
        "id": "jyLb1ADTXEie"
      }
    },
    {
      "cell_type": "markdown",
      "metadata": {
        "id": "Ok8qqPEo0HBM"
      },
      "source": [
        "### Tokenización"
      ]
    },
    {
      "cell_type": "markdown",
      "metadata": {
        "id": "Wr7mWmg_6v9j"
      },
      "source": [
        "En el proceso de tokenización haremos una lista con las palabras resultado de las transformaciones anteriores, para poder aplicar el proceso de lematización."
      ]
    },
    {
      "cell_type": "code",
      "execution_count": 14,
      "metadata": {
        "id": "UiJqGZsj0Mkp"
      },
      "outputs": [],
      "source": [
        "data_t['Review'] = data_t['Review'].apply(contractions.fix)\n",
        "data_t['words'] = data_t['Review'].apply(word_tokenize)"
      ]
    },
    {
      "cell_type": "code",
      "execution_count": 15,
      "metadata": {
        "colab": {
          "base_uri": "https://localhost:8080/"
        },
        "id": "f47c4YZm03Hw",
        "outputId": "d82f2abc-5527-49f8-eb86-d5987ba2ec74"
      },
      "outputs": [
        {
          "output_type": "execute_result",
          "data": {
            "text/plain": [
              "(7875, 3)"
            ]
          },
          "metadata": {},
          "execution_count": 15
        }
      ],
      "source": [
        "data_t['words'].dropna()\n",
        "data_t.shape"
      ]
    },
    {
      "cell_type": "code",
      "execution_count": 16,
      "metadata": {
        "colab": {
          "base_uri": "https://localhost:8080/"
        },
        "id": "PThdzqT51AWa",
        "outputId": "37a3afc8-87d9-41d9-a18a-c2b5f580fc13"
      },
      "outputs": [
        {
          "output_type": "stream",
          "name": "stdout",
          "text": [
            "                                              Review  Class  \\\n",
            "0  Nos alojamos en una casa alquilada en la ciuda...      4   \n",
            "1  La comida está bien, pero nada especial. Yo te...      3   \n",
            "2  En mi opinión, no es una como muchos usuarios ...      3   \n",
            "3  esta curiosa forma que asemeja una silla de mo...      4   \n",
            "4  Lo mejor era la limonada. Me gusto la comida d...      2   \n",
            "\n",
            "                                               words  \n",
            "0  [alojamos, casa, alquilada, ciudad, amurallada...  \n",
            "1  [comida, bien, , especial, , tenia, mejor, com...  \n",
            "2  [opinion, , usuarios, reclaman, , gran, palada...  \n",
            "3  [curiosa, forma, asemeja, silla, montar, ahi, ...  \n",
            "4  [mejor, limonada, , gusto, comida, mundo, sosa...  \n"
          ]
        }
      ],
      "source": [
        "data_t['words']=data_t['words'].apply(preprocessing)\n",
        "print(data_t.head())"
      ]
    },
    {
      "cell_type": "markdown",
      "metadata": {
        "id": "jSagpwyC1-rQ"
      },
      "source": [
        "### Normalización"
      ]
    },
    {
      "cell_type": "markdown",
      "metadata": {
        "id": "exQEAzI1O6tX"
      },
      "source": [
        "Para la normalización decidimos utilizar lematización ya que da una versión de las palabras generales, más representativas de lo que dan utilizando stemming. Con solo el uso del lematizador podemos garantizar que los verbos se pondrán en su forma infinitiva y el resto de palabras en su forma neutral."
      ]
    },
    {
      "cell_type": "code",
      "execution_count": 17,
      "metadata": {
        "id": "iigT4q4k2SL9"
      },
      "outputs": [],
      "source": [
        "import spacy\n",
        "\n",
        "lemmatizer = spacy.load(\"es_core_news_sm\")\n",
        "\n",
        "def lemmatize_verbs(words):\n",
        "    #Lemmatize verbs in list of tokenized words\n",
        "    doc = lemmatizer(\" \".join(words))\n",
        "    return [token.lemma_ for token in doc]\n",
        "\n",
        "data_t['words'] = data_t['words'].apply(lemmatize_verbs)"
      ]
    },
    {
      "cell_type": "markdown",
      "metadata": {
        "id": "v5Mn5K2B5k3p"
      },
      "source": [
        "### Selección de campos"
      ]
    },
    {
      "cell_type": "markdown",
      "metadata": {
        "id": "msBFgpTM7bJU"
      },
      "source": [
        "Con las palabras ya lematizadas unimos las listas nuevamente para poder eliminar espacios y las tíldes restantes para garantizar la homogeneidad de los datos."
      ]
    },
    {
      "cell_type": "code",
      "execution_count": 18,
      "metadata": {
        "id": "VxifE7nV6gir"
      },
      "outputs": [],
      "source": [
        "data_t['words'] = data_t['words'].apply(remove_accidentals)"
      ]
    },
    {
      "cell_type": "code",
      "execution_count": 19,
      "metadata": {
        "colab": {
          "base_uri": "https://localhost:8080/"
        },
        "id": "hj9uCcA75mIs",
        "outputId": "ae4d7e03-e427-4a44-8f7e-0b3149c89f41"
      },
      "outputs": [
        {
          "output_type": "stream",
          "name": "stdout",
          "text": [
            "                                              Review  Class  \\\n",
            "0  Nos alojamos en una casa alquilada en la ciuda...      4   \n",
            "1  La comida está bien, pero nada especial. Yo te...      3   \n",
            "2  En mi opinión, no es una como muchos usuarios ...      3   \n",
            "3  esta curiosa forma que asemeja una silla de mo...      4   \n",
            "4  Lo mejor era la limonada. Me gusto la comida d...      2   \n",
            "\n",
            "                                               words  \n",
            "0  alojamo casa alquilado ciudad amurallado   par...  \n",
            "1  comida bien   especial   tenia mejor comida me...  \n",
            "2  opinion   usuario reclamar   gran paladar pare...  \n",
            "3  curioso forma asemejo silla montar ahi nombre ...  \n",
            "4       mejor limonado   gusto comida mundo sos frio  \n"
          ]
        }
      ],
      "source": [
        "data_t['words'] = data_t['words'].apply(lambda x: ' '.join(map(str, x)))\n",
        "print(data_t.head())"
      ]
    },
    {
      "cell_type": "code",
      "execution_count": 20,
      "metadata": {
        "id": "pMZ6N9o1OhW8"
      },
      "outputs": [],
      "source": [
        "# Elimminamos los espacios extra entre las palabras\n",
        "import re\n",
        "\n",
        "for index, row in data_t.iterrows():\n",
        "  data_t.loc[index, 'words'] = re.sub(r'\\s+', ' ', row['words'])"
      ]
    },
    {
      "cell_type": "markdown",
      "metadata": {
        "id": "a_njIe5R7qGi"
      },
      "source": [
        "Acá podemos ver una comparación entre el texto base y el resultado de aplicar las transformaciones. Podemos observar que los verbos están en su infinitivo, las palabras con género se neutralizaron y los plurales."
      ]
    },
    {
      "cell_type": "code",
      "execution_count": 21,
      "metadata": {
        "colab": {
          "base_uri": "https://localhost:8080/"
        },
        "id": "A5Rre7lM9t_F",
        "outputId": "82dd3a54-0daf-4ad2-ff61-2fa840c7c05e"
      },
      "outputs": [
        {
          "output_type": "stream",
          "name": "stdout",
          "text": [
            "Nos alojamos en una casa alquilada en la ciudad amurallada. Parecía tan segura como cualquier otra gran ciudad con un montón de buenos restaurantes, tiendas y vida nocturna. Gran lugar para un grupo con intereses variados, no estoy seguro de que le traiga a los niños aquí sólo porque no hay mucho que hacer para ellos. Asegúrate de aventurarse fuera de la ciudad, pero algunos también es un gran lugar para alojarse\n",
            "alojamo casa alquilado ciudad amurallado parecia tanto seguro cualquiera gran ciudad monton buen restaurante tienda vida nocturno gran lugar grupo interes variado seguro traer nino aqui solo hacer asegurate aventurar el ciudad tambien gran lugar alojar el\n"
          ]
        }
      ],
      "source": [
        "print(data_t['Review'][0])\n",
        "print(data_t['words'][0])"
      ]
    },
    {
      "cell_type": "code",
      "execution_count": 22,
      "metadata": {
        "colab": {
          "base_uri": "https://localhost:8080/"
        },
        "id": "mF8tJyrGFRBV",
        "outputId": "c13b7005-3ab8-4a9a-ae17-6e470257c89a"
      },
      "outputs": [
        {
          "output_type": "stream",
          "name": "stdout",
          "text": [
            "             Class       Conteo          Max          Min         Moda\n",
            "count  7875.000000  7875.000000  7875.000000  7875.000000  7875.000000\n",
            "mean      3.491683   262.485079    11.891048     2.532190     5.456254\n",
            "std       1.328275   274.164755     2.093100     1.038049     1.158928\n",
            "min       1.000000    26.000000     6.000000     0.000000     0.000000\n",
            "25%       2.000000   129.000000    11.000000     2.000000     5.000000\n",
            "50%       4.000000   178.000000    12.000000     2.000000     5.000000\n",
            "75%       5.000000   326.000000    13.000000     3.000000     6.000000\n",
            "max       5.000000  8741.000000    30.000000     7.000000    12.000000\n"
          ]
        }
      ],
      "source": [
        "textos2 = data_t.copy()\n",
        "textos2['Conteo'] = [len(x) for x in textos2['words']]\n",
        "textos2['Max'] = [[max([len(x) for x in i.split(' ')])][0] for i in textos2['words']]\n",
        "textos2['Min'] = [[min([len(x) for x in i.split(' ')])][0] for i in textos2['words']]\n",
        "textos2['Moda'] = [st.mode([len(x) for x in i.split(' ')])[0] for i in textos2['words']]\n",
        "print(textos2.describe())"
      ]
    },
    {
      "cell_type": "code",
      "execution_count": 23,
      "metadata": {
        "colab": {
          "base_uri": "https://localhost:8080/",
          "height": 528
        },
        "id": "fSgPd2v_Fihs",
        "outputId": "e8d4b33f-01d9-4dff-b63b-3cae78316cf6"
      },
      "outputs": [
        {
          "output_type": "display_data",
          "data": {
            "text/plain": [
              "<Figure size 1000x600 with 4 Axes>"
            ],
            "image/png": "[encoded data removed]"
          },
          "metadata": {}
        }
      ],
      "source": [
        "fig, axes = plt.subplots(2, 2, figsize=(10, 6))\n",
        "\n",
        "# Conteo\n",
        "axes[0, 0].boxplot(textos2['Conteo'], vert=False)\n",
        "axes[0, 0].set_title('Conteo')\n",
        "\n",
        "# Min\n",
        "axes[0, 1].boxplot(textos2['Min'], vert=False)\n",
        "axes[0, 1].set_title('Min')\n",
        "\n",
        "# Max\n",
        "axes[1, 0].boxplot(textos2['Max'], vert=False)\n",
        "axes[1, 0].set_title('Max')\n",
        "\n",
        "# Moda\n",
        "axes[1, 1].boxplot(textos2['Moda'], vert=False)\n",
        "axes[1, 1].set_title('Moda')\n",
        "\n",
        "plt.tight_layout()\n",
        "plt.show()\n"
      ]
    },
    {
      "cell_type": "code",
      "execution_count": 24,
      "metadata": {
        "colab": {
          "base_uri": "https://localhost:8080/"
        },
        "id": "XbHEgZbf5svM",
        "outputId": "f202a617-c07a-4de9-d19e-020dcd80b188"
      },
      "outputs": [
        {
          "output_type": "execute_result",
          "data": {
            "text/plain": [
              "0       4\n",
              "1       3\n",
              "2       3\n",
              "3       4\n",
              "4       2\n",
              "       ..\n",
              "7870    3\n",
              "7871    3\n",
              "7872    5\n",
              "7873    5\n",
              "7874    3\n",
              "Name: Class, Length: 7875, dtype: int64"
            ]
          },
          "metadata": {},
          "execution_count": 24
        }
      ],
      "source": [
        "X_data, y_data = data_t['words'],data_t['Class']\n",
        "y_data"
      ]
    },
    {
      "cell_type": "markdown",
      "source": [
        "Basado en la información anterior podemos ver que la distribución de los datos es mucho menor ya después de haberse hecho la transformación."
      ],
      "metadata": {
        "id": "xnBdyAUZYJGX"
      }
    },
    {
      "cell_type": "code",
      "execution_count": 25,
      "metadata": {
        "colab": {
          "base_uri": "https://localhost:8080/"
        },
        "id": "JfEIPZcS961Q",
        "outputId": "10948eb6-90ef-4718-c132-3533a3d2025d"
      },
      "outputs": [
        {
          "output_type": "stream",
          "name": "stdout",
          "text": [
            "(7875, 20870)\n"
          ]
        },
        {
          "output_type": "execute_result",
          "data": {
            "text/plain": [
              "array([0, 0, 0, ..., 0, 0, 0])"
            ]
          },
          "metadata": {},
          "execution_count": 25
        }
      ],
      "source": [
        "count = CountVectorizer()\n",
        "X_count = count.fit_transform(X_data)\n",
        "print(X_count.shape)\n",
        "X_count.toarray()[0]"
      ]
    },
    {
      "cell_type": "markdown",
      "metadata": {
        "id": "pQkiHcWj-rpg"
      },
      "source": [
        "Utilizamos la función TfiidfVectorizer para encontrar los valores Tf-idf para cada palabra. El primer valor de las parejas representa el id del Review y la segunda el id de la palabra. Continúan con el valor de tf-idf para esas parejas."
      ]
    },
    {
      "cell_type": "code",
      "execution_count": 26,
      "metadata": {
        "colab": {
          "base_uri": "https://localhost:8080/"
        },
        "id": "IZjRH9u3-ato",
        "outputId": "1789d902-6822-47c6-adf0-af9dd1528000"
      },
      "outputs": [
        {
          "output_type": "stream",
          "name": "stdout",
          "text": [
            "(7875, 20870)\n"
          ]
        }
      ],
      "source": [
        "tf_idf = TfidfVectorizer()\n",
        "X_tf_idf = tf_idf.fit_transform(X_data)\n",
        "print(X_tf_idf.shape)"
      ]
    },
    {
      "cell_type": "markdown",
      "metadata": {
        "id": "WaJTgQuxDmmL"
      },
      "source": [
        "Podemos concluir que hay 7875 documentos con 20870 palabras diferentes."
      ]
    },
    {
      "cell_type": "code",
      "execution_count": 27,
      "metadata": {
        "colab": {
          "base_uri": "https://localhost:8080/"
        },
        "id": "I3yd427WVnvE",
        "outputId": "44a1b6f6-e6a7-4cc1-cc39-ad86b64b6a9f"
      },
      "outputs": [
        {
          "output_type": "stream",
          "name": "stdout",
          "text": [
            "Word: alojamo, TF-IDF value: 0.1629329563023252\n",
            "Word: alojar, TF-IDF value: 0.1737071688593814\n",
            "Word: alquilado, TF-IDF value: 0.27364829260328877\n",
            "Word: amurallado, TF-IDF value: 0.1747638663449037\n",
            "Word: aqui, TF-IDF value: 0.12396982275153426\n",
            "Word: asegurate, TF-IDF value: 0.206387100568409\n",
            "Word: aventurar, TF-IDF value: 0.24444233044446728\n",
            "Word: buen, TF-IDF value: 0.07638645150114975\n",
            "Word: casa, TF-IDF value: 0.1393904255831274\n",
            "Word: ciudad, TF-IDF value: 0.3011509761934237\n",
            "Word: cualquiera, TF-IDF value: 0.13550529472149156\n",
            "Word: el, TF-IDF value: 0.1714510133715839\n",
            "Word: gran, TF-IDF value: 0.32748652095689845\n",
            "Word: grupo, TF-IDF value: 0.1470987255793981\n",
            "Word: hacer, TF-IDF value: 0.08224033998383815\n",
            "Word: interes, TF-IDF value: 0.24780060432664708\n",
            "Word: lugar, TF-IDF value: 0.14810708421641006\n",
            "Word: monton, TF-IDF value: 0.1419712433237551\n",
            "Word: nino, TF-IDF value: 0.14222829408420243\n",
            "Word: nocturno, TF-IDF value: 0.19189278502536902\n",
            "Word: parecia, TF-IDF value: 0.1665946641826857\n",
            "Word: restaurante, TF-IDF value: 0.08909839837219288\n",
            "Word: seguro, TF-IDF value: 0.28817629069819656\n",
            "Word: solo, TF-IDF value: 0.09610143257535715\n",
            "Word: tambien, TF-IDF value: 0.11056448725880684\n",
            "Word: tanto, TF-IDF value: 0.11747454026804371\n",
            "Word: tienda, TF-IDF value: 0.1617208664732529\n",
            "Word: traer, TF-IDF value: 0.16715387364093162\n",
            "Word: variado, TF-IDF value: 0.15812560918307342\n",
            "Word: vida, TF-IDF value: 0.16471125688031305\n"
          ]
        }
      ],
      "source": [
        "# Imprime los valores TF-IDF para las palabras del primer documento\n",
        "index_to_word = {idx: word for word, idx in tf_idf.vocabulary_.items()}\n",
        "\n",
        "first_document_tfidf = X_tf_idf[0].toarray().flatten()\n",
        "for idx, tfidf_value in enumerate(first_document_tfidf):\n",
        "    if tfidf_value != 0:\n",
        "        word = index_to_word[idx]\n",
        "        print(f\"Word: {word}, TF-IDF value: {tfidf_value}\")"
      ]
    },
    {
      "cell_type": "code",
      "execution_count": 28,
      "metadata": {
        "id": "-IAVA_v585qn"
      },
      "outputs": [],
      "source": [
        "data_prep = X_tf_idf.copy().todense()"
      ]
    },
    {
      "cell_type": "code",
      "execution_count": 29,
      "metadata": {
        "id": "9QURSEzD9LOl"
      },
      "outputs": [],
      "source": [
        "data_prep = pd.DataFrame(data_prep, columns=tf_idf.vocabulary_.keys())"
      ]
    },
    {
      "cell_type": "code",
      "execution_count": 30,
      "metadata": {
        "colab": {
          "base_uri": "https://localhost:8080/"
        },
        "id": "HDPpO6IA9WgD",
        "outputId": "b86a2c06-2f45-41da-8101-9e4278814288"
      },
      "outputs": [
        {
          "output_type": "execute_result",
          "data": {
            "text/plain": [
              "Index(['alojamo', 'casa', 'alquilado', 'ciudad', 'amurallado', 'parecia',\n",
              "       'tanto', 'seguro', 'cualquiera', 'gran',\n",
              "       ...\n",
              "       'panquequ', 'vagabundear', 'acompanir', 'mannequen', 'cabezar',\n",
              "       'urbanasu', 'congestionamieto', 'caminador', 'grafiti', 'remonto'],\n",
              "      dtype='object', length=20870)"
            ]
          },
          "metadata": {},
          "execution_count": 30
        }
      ],
      "source": [
        "data_prep.columns"
      ]
    },
    {
      "cell_type": "code",
      "execution_count": 31,
      "metadata": {
        "id": "RsCTThHI6MdP"
      },
      "outputs": [],
      "source": [
        "data_prep[\"Class\"] = y_data"
      ]
    },
    {
      "cell_type": "code",
      "execution_count": 32,
      "metadata": {
        "colab": {
          "base_uri": "https://localhost:8080/"
        },
        "id": "gaFGOv_y-CK5",
        "outputId": "0923dcc0-8079-48cf-ec43-94e054a4379e"
      },
      "outputs": [
        {
          "output_type": "execute_result",
          "data": {
            "text/plain": [
              "Index(['alojamo', 'casa', 'alquilado', 'ciudad', 'amurallado', 'parecia',\n",
              "       'tanto', 'seguro', 'cualquiera', 'gran',\n",
              "       ...\n",
              "       'vagabundear', 'acompanir', 'mannequen', 'cabezar', 'urbanasu',\n",
              "       'congestionamieto', 'caminador', 'grafiti', 'remonto', 'Class'],\n",
              "      dtype='object', length=20871)"
            ]
          },
          "metadata": {},
          "execution_count": 32
        }
      ],
      "source": [
        "data_prep.columns"
      ]
    },
    {
      "cell_type": "code",
      "execution_count": 33,
      "metadata": {
        "colab": {
          "base_uri": "https://localhost:8080/"
        },
        "id": "CsSyn7Pc8JaA",
        "outputId": "e2ffdf6b-fc76-4e78-bd89-5f2730cc866e"
      },
      "outputs": [
        {
          "output_type": "execute_result",
          "data": {
            "text/plain": [
              "(7875, 20871)"
            ]
          },
          "metadata": {},
          "execution_count": 33
        }
      ],
      "source": [
        "data_prep.shape"
      ]
    },
    {
      "cell_type": "code",
      "execution_count": 34,
      "metadata": {
        "colab": {
          "base_uri": "https://localhost:8080/"
        },
        "id": "71uzdSNjwiKl",
        "outputId": "63892591-a537-404e-8496-22782c9a3b64"
      },
      "outputs": [
        {
          "output_type": "execute_result",
          "data": {
            "text/plain": [
              "71"
            ]
          },
          "metadata": {},
          "execution_count": 34
        }
      ],
      "source": [
        "data_prep.duplicated().sum()"
      ]
    },
    {
      "cell_type": "code",
      "execution_count": 35,
      "metadata": {
        "id": "bYDDjn20wxR5"
      },
      "outputs": [],
      "source": [
        "data_prep = data_prep.drop_duplicates()"
      ]
    },
    {
      "cell_type": "markdown",
      "source": [
        "Con esto termina la preparación de los datos, habiendo eliminado las filas duplicadas y creado la matriz TF-IDF con los valores resultado para cada palabra y documento."
      ],
      "metadata": {
        "id": "gTIgYDRgYZGN"
      }
    },
    {
      "cell_type": "code",
      "execution_count": 36,
      "metadata": {
        "colab": {
          "base_uri": "https://localhost:8080/",
          "height": 472
        },
        "id": "uvUp_67Ow06t",
        "outputId": "603eeb2e-750e-4c95-f530-c52cc970063e"
      },
      "outputs": [
        {
          "output_type": "display_data",
          "data": {
            "text/plain": [
              "<Figure size 640x480 with 1 Axes>"
            ],
            "image/png": "[encoded data removed]"
          },
          "metadata": {}
        }
      ],
      "source": [
        "# Creamos un histograma para ver la distribución de valores tf_idf\n",
        "tf_idf_scores = X_tf_idf.toarray()\n",
        "\n",
        "tf_idf_scores_flat = tf_idf_scores.flatten()[tf_idf_scores.flatten() != 0]\n",
        "\n",
        "bin_edges = np.arange(0, 1.05, 0.01)\n",
        "\n",
        "hist, bins = np.histogram(tf_idf_scores_flat, bins=bin_edges)\n",
        "\n",
        "plt.bar(bins[:-1], hist, width=0.01)\n",
        "plt.xlabel('TF-IDF Score')\n",
        "plt.ylabel('Word Count')\n",
        "plt.title('TF-IDF Distribution')\n",
        "plt.grid(True)\n",
        "plt.show()\n"
      ]
    },
    {
      "cell_type": "code",
      "execution_count": 37,
      "metadata": {
        "id": "rZhAOUALMS7A"
      },
      "outputs": [],
      "source": [
        "del tf_idf_scores_flat, bin_edges, hist, bins, X_tf_idf, tf_idf, data_t"
      ]
    },
    {
      "cell_type": "code",
      "source": [
        "data_prep.to_csv(\"datos_entregados_procesados.csv\", index=False)"
      ],
      "metadata": {
        "id": "aizyvTdtoqmk"
      },
      "execution_count": 38,
      "outputs": []
    },
    {
      "cell_type": "markdown",
      "source": [
        "El histograma anterior nos sirve de referencia para antender como están distribuidos los valores TF-IDF de todos los documentos, especialmente el hecho de que la mayoría son menores a 0.2."
      ],
      "metadata": {
        "id": "VYl9CfqwYs5o"
      }
    },
    {
      "cell_type": "markdown",
      "metadata": {
        "id": "xybqY5J2aS6S"
      },
      "source": [
        "# Modelado y evaluación (20%)"
      ]
    },
    {
      "cell_type": "markdown",
      "metadata": {
        "id": "wOSEPN6SbPvX"
      },
      "source": [
        "## Algoritmo de árbol de decisión [Santiago Chamie Rey]"
      ]
    },
    {
      "cell_type": "markdown",
      "metadata": {
        "id": "gNeAjGvaLLgN"
      },
      "source": [
        "El algoritmo de árbol de decisión fue el único de los algoritmos de clasificación que utilizamos en el proyecto de los que vimos en clase. Los otros dos algoritmos utilizados son algunos de los más utilizados al clasificar textos, como se hace en este proyecto. No así, elegimos utilizar este algoritmo como un punto de partida y comparación de resultados, y familiarizarnos con el proceso de clasificar textos.\n",
        "\n",
        "Este algoritmo funciona a partir de la subdivisión del conjunto de datos basado en las características particulares de los conjuntos. Los hiperparámetros de este algoritmo es la profundidad del árbol (que tantos subconjuntos se hacen) y las columnas de decisión. Para encontrar dónde dividir el árbol se hace el cálculo del coeficiente gini o entropía (dependiendo del que se elija) para cada una de las columnas de los datos, eligiendo la que tenga un valor más significativo. Este proceso se repite tantas veces lo permitan los datos y la profundidad del árbol para formar grupos característicos para cada calificación [0,5]."
      ]
    },
    {
      "cell_type": "code",
      "execution_count": null,
      "metadata": {
        "id": "Wp10tuNi3Fss"
      },
      "outputs": [],
      "source": [
        "Y=data_prep['Class']\n",
        "X=data_prep.drop(['Class'], axis=1)"
      ]
    },
    {
      "cell_type": "markdown",
      "metadata": {
        "id": "O__IjBJJMATJ"
      },
      "source": [
        "Para encontrar la profundidad adecuada del algoritmo se hace un proceso de búsqueda de grilla, utilizando una lista de valores plausibles de profundidad, lo cuales se computan para sacar algún coeficiente y compararlos entre sí. Ya con este coeficiente elegido se puede entonces crear el modelo final, dividiendo los datos en grupos 80-20 para entrenar el modelo y hacer pruebas respectivamente."
      ]
    },
    {
      "cell_type": "code",
      "execution_count": null,
      "metadata": {
        "id": "tnmwgXgKMOem"
      },
      "outputs": [],
      "source": [
        "# Dividimos los datos en entrenamiento y test\n",
        "X_train, X_test, Y_train, Y_test = train_test_split(X, Y, test_size=0.2, random_state=0)"
      ]
    },
    {
      "cell_type": "code",
      "execution_count": null,
      "metadata": {
        "id": "St4NOMRLNn_h",
        "colab": {
          "base_uri": "https://localhost:8080/"
        },
        "outputId": "2deb6065-faeb-4f4c-ffc9-d1a93ebcccae"
      },
      "outputs": [
        {
          "output_type": "stream",
          "name": "stdout",
          "text": [
            "Fitting 5 folds for each of 3 candidates, totalling 15 fits\n",
            "Mejor profundidad encontrada: 2000\n",
            "F1 score del mejor modelo encontrado: 0.3428473962398627\n"
          ]
        }
      ],
      "source": [
        "# Definimos los parámetros sobre los que queremos realizar la búsqueda de grilla\n",
        "param_grid = {\n",
        "    'max_depth': [2000, 2061, 2250]  # Lista de valores de profundidad que queremos probar\n",
        "}\n",
        "\n",
        "# Creamos el objeto de árbol de decisión\n",
        "arbol = DecisionTreeClassifier(criterion='entropy', random_state=0)\n",
        "\n",
        "# Creamos el objeto GridSearchCV\n",
        "grid_search = GridSearchCV(estimator=arbol, param_grid=param_grid, cv=5, scoring='f1_weighted', verbose=1)\n",
        "\n",
        "# Ejecutamos la búsqueda de grilla en los datos de entrenamiento\n",
        "grid_search.fit(X_train, Y_train)\n",
        "\n",
        "# Obtenemos los resultados de la búsqueda\n",
        "print(\"Mejor profundidad encontrada:\", grid_search.best_params_['max_depth'])\n",
        "print(\"F1 score del mejor modelo encontrado:\", grid_search.best_score_)"
      ]
    },
    {
      "cell_type": "code",
      "execution_count": null,
      "metadata": {
        "id": "KxUS3DqKRq_2",
        "colab": {
          "base_uri": "https://localhost:8080/"
        },
        "outputId": "8f8a7c50-741c-4d23-f710-0d6f4ae77d0a"
      },
      "outputs": [
        {
          "output_type": "stream",
          "name": "stdout",
          "text": [
            "F1 score del modelo final sobre el conjunto test: 0.33226325813748997\n"
          ]
        }
      ],
      "source": [
        "# Entrenamos el modelo final con la mejor profundidad encontrada\n",
        "best_depth = grid_search.best_params_['max_depth']\n",
        "arbol_final = DecisionTreeClassifier(criterion='entropy', max_depth=best_depth, random_state=0)\n",
        "arbol_final.fit(X_train, Y_train)\n",
        "\n",
        "# Determinamos las predicciones del modelo final sobre el conjunto test.\n",
        "y_pred_final = arbol_final.predict(X_test)\n",
        "\n",
        "# Calculamos el F1 score del modelo final sobre el conjunto test\n",
        "f1_final = f1_score(Y_test, y_pred_final, average='weighted')\n",
        "print(\"F1 score del modelo final sobre el conjunto test:\", f1_final)"
      ]
    },
    {
      "cell_type": "markdown",
      "source": [
        "Al finalizar la construcción del modelo dió un resultado de 0.33 en el puntaje f1, métrica de evaluación elegida para este caso, y la siguiente matriz de confusión."
      ],
      "metadata": {
        "id": "t95zaKEztB7J"
      }
    },
    {
      "cell_type": "code",
      "execution_count": null,
      "metadata": {
        "id": "EjgymLrbMuCu",
        "colab": {
          "base_uri": "https://localhost:8080/",
          "height": 449
        },
        "outputId": "9236e837-234c-491a-9389-2becc2007f12"
      },
      "outputs": [
        {
          "output_type": "display_data",
          "data": {
            "text/plain": [
              "<Figure size 640x480 with 2 Axes>"
            ],
            "image/png": "[encoded data removed]"
          },
          "metadata": {}
        }
      ],
      "source": [
        "# Se genera la matriz de confusión\n",
        "cm = confusion_matrix(Y_test, y_pred_final)\n",
        "# Se puede visualizar la matriz de confusión\n",
        "#plot_confusion_matrix(arbol, X_test, Y_test)\n",
        "disp = ConfusionMatrixDisplay(confusion_matrix=cm, display_labels=arbol_final.classes_)\n",
        "disp.plot(cmap=plt.cm.Blues)\n",
        "\n",
        "plt.show()"
      ]
    },
    {
      "cell_type": "code",
      "execution_count": null,
      "metadata": {
        "id": "ZwERi5rrMymY",
        "colab": {
          "base_uri": "https://localhost:8080/"
        },
        "outputId": "35edd8e4-0bfd-4d01-a1e1-348668f85319"
      },
      "outputs": [
        {
          "output_type": "stream",
          "name": "stdout",
          "text": [
            "              precision    recall  f1-score   support\n",
            "\n",
            "           1       0.22      0.22      0.22       144\n",
            "           2       0.27      0.28      0.28       236\n",
            "           3       0.22      0.18      0.20       319\n",
            "           4       0.31      0.36      0.34       378\n",
            "           5       0.48      0.48      0.48       484\n",
            "\n",
            "    accuracy                           0.33      1561\n",
            "   macro avg       0.30      0.30      0.30      1561\n",
            "weighted avg       0.33      0.33      0.33      1561\n",
            "\n"
          ]
        }
      ],
      "source": [
        "# Mostrar reporte de clasificación\n",
        "print(classification_report(Y_test, y_pred_final))"
      ]
    },
    {
      "cell_type": "code",
      "execution_count": null,
      "metadata": {
        "id": "Ev5vPdmGQGUL"
      },
      "outputs": [],
      "source": [
        "del X, Y, param_grid, arbol, grid_search, best_depth, arbol_final, y_pred_final"
      ]
    },
    {
      "cell_type": "markdown",
      "source": [
        "El modelo entrenado tuvo un puntaje f1 de 0.33, logrando un máximo f1 para predecir los puntajes de 5 en las reseñas, lo que tiene sentido ya que este es el puntaje más común. Este modelo logra ser satisfactorio para predecir los puntajes, sin embargo, sigue faltándole la certeza esperada para poder recomendárselo al negocio."
      ],
      "metadata": {
        "id": "L7bCs7JltNen"
      }
    },
    {
      "cell_type": "markdown",
      "metadata": {
        "id": "UGdweM-YbSlI"
      },
      "source": [
        "## Naive Bayes classifier (Clasificador bayesiano) [Daniel Vargas Ulloa]"
      ]
    },
    {
      "cell_type": "markdown",
      "metadata": {
        "id": "TzU138IPMKAP"
      },
      "source": [
        "### Descripción del Algoritmo:"
      ]
    },
    {
      "cell_type": "markdown",
      "metadata": {
        "id": "5ULmtlFOBQE_"
      },
      "source": [
        "El algoritmo de Naive Bayes Classifier es un método de clasificación probabilístico basado en el teorema de Bayes con una suposición ingenua (de ahí su nombre \"naive\"). Este clasificador se utiliza comúnmente en tareas de clasificación, incluido el procesamiento de lenguaje natural (PLN).\n",
        "\n",
        "#### **Funcionamiento del algoritmo**\n",
        "\n",
        "El algoritmo de Naive Bayes utiliza el teorema de Bayes para calcular la probabilidad condicional de que una instancia pertenezca a una determinada clase dada la presencia de ciertas características. En nuestro caso, este algoritmo nos permitirá asignarle una claificación a una reseña a partir de las palabras que esta contenga.\n",
        "\n",
        "El teorema de Bayes es una regla fundamental en la teoría de la probabilidad que permite calcular la probabilidad condicional de un evento dado el conocimiento de otro evento relacionado. Formalmente, el teorema de Bayes establece que la probabilidad de que ocurra un evento A dado que ha ocurrido un evento B. Se puede calcular utilizando la fórmula:\n",
        "\n"
      ]
    },
    {
      "cell_type": "markdown",
      "metadata": {
        "id": "x69UM-iBEHc6"
      },
      "source": [
        "![Screenshot_20240402_084710.png](data:image/png;base64,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)"
      ]
    },
    {
      "cell_type": "markdown",
      "metadata": {
        "id": "sF3a1VgzE5wf"
      },
      "source": [
        "Donde:\n",
        "\n",
        "* P(A∣B) es la probabilidad condicional de que ocurra el evento A dado que ha ocurrido el evento B.\n",
        "\n",
        "* P(B∣A) es la probabilidad condicional de que ocurra el evento B dado que ha ocurrido el evento A.\n",
        "\n",
        "* P(A) y P(B) son las probabilidades de que ocurran los eventos A y B respectivamente.\n",
        "\n",
        "En el contexto del algoritmo de Naive Bayes, esta fórmula se utiliza para calcular la probabilidad condicional de pertenencia a una clase dada la presencia de ciertas características (predictores)."
      ]
    },
    {
      "cell_type": "markdown",
      "metadata": {
        "id": "nIP7jitaFx7x"
      },
      "source": [
        "\n",
        "El algoritmo de Naive Bayes utiliza el teorema de Bayes para calcular la probabilidad condicional de que una instancia pertenezca a una determinada clase dada la presencia de ciertas características.\n",
        "\n",
        "Supongamos que tenemos un conjunto de datos con características (variables predictoras, en nuestro caso estas siendo palabras) $X_1, X_2, ..., X_n$ y una clase objetivo $C$ (en nuestro caso la clase objetivo siendo el valor de la calificación del 1 al 5). El objetivo es predecir la clase de una nueva instancia utilizando las características observadas.\n",
        "\n",
        "El algoritmo calcula la probabilidad de que una instancia pertenezca a cada clase $C_i$ utilizando la fórmula del teorema de Bayes:\n",
        "\n",
        "$\\\n",
        "P(C_i | X_1, X_2, ..., X_n) = \\frac{P(X_1, X_2, ..., X_n | C_i) \\times P(C_i)}{P(X_1, X_2, ..., X_n)}\n",
        "\\$\n",
        "\n",
        "Donde:\n",
        "*  P(C_i | X_1, X_2, ..., X_n)  es la probabilidad condicional de que una instancia pertenezca a la clase C_i dado que tiene características X_1, X_2, ..., X_n.\n",
        "*  P(X_1, X_2, ..., X_n | C_i)  es la probabilidad condicional de observar las características X_1, X_2, ..., X_n dado que la instancia pertenece a la clase C_i.\n",
        "*  P(C_i)  es la probabilidad previa de que una instancia pertenezca a la clase C_i.\n",
        "*  P(X_1, X_2, ..., X_n)  es la probabilidad total de observar las características X_1, X_2, ..., X_n, también conocida como probabilidad marginal.\n",
        "\n",
        "El clasificador predice la clase $C_i$ que maximiza esta probabilidad condicional.\n",
        "\n",
        "#### **Supuestos del algoritmo**\n",
        "\n",
        "El supuesto clave del algoritmo de Naive Bayes es que las características son condicionalmente independientes dadas las clases. Es decir, la presencia de una característica en una clase no está relacionada con la presencia de otras características. Aunque esta suposición es simplista y a menudo poco realista, Naive Bayes sigue siendo efectivo en muchos casos prácticos.\n",
        "\n",
        "#### **Ventajas y desventajas**\n",
        "\n",
        "**Ventajas:**\n",
        "\n",
        "* Simplicidad: Es fácil de implementar y entender.\n",
        "\n",
        "* Eficiencia computacional: Requiere un tiempo de entrenamiento y predicción relativamente bajo.\n",
        "\n",
        "* Buen rendimiento en conjuntos de datos grandes: A menudo supera a métodos más complejos cuando el conjunto de datos es grande y las suposiciones ingenuas no se violan significativamente.\n",
        "\n",
        "**Desventajas:**\n",
        "\n",
        "* Suposición de independencia condicional: Puede no ser realista en muchas situaciones del mundo real.\n",
        "\n",
        "* Sensibilidad a características irrelevantes: Las características irrelevantes pueden afectar negativamente el rendimiento del clasificador.\n",
        "\n",
        "* Mal manejo de datos faltantes: Puede conducir a estimaciones de probabilidad sesgadas si hay características faltantes en el conjunto de datos.\n",
        "\n",
        "#### **Funcionamiento en PLN para la clasificación de reseñas**\n",
        "\n",
        "Para nuestro problema de clasificación de reseñas, donde el objetivo es asignar una calificación a una reseña basada en su contenido, los pasos para aplicar el algoritmo de Naive Bayes para esta tarea son los siguientes:\n",
        "\n",
        "* **Preprocesamiento de datos:** Se realiza la limpieza de texto, tokenización y eliminación de palabras irrelevantes o comunes (stop words).\n",
        "\n",
        "* **Representación de características:** Cada reseña se representa como un vector de características que describe la presencia o ausencia de ciertas palabras en el texto.\n",
        "\n",
        "* **Entrenamiento del modelo:** A partir de los datos procistos, se calculan las probabilidades de que una palabra aparezca en reseñas de cada clase de calificación (En este caso, calificaciones del 1 al 5 como vimos en el entendimiento de datos), asumiendo la independencia condicional de las palabras dadas las clases.\n",
        "\n",
        "* **Predicción:** Dada una nueva reseña, el modelo utiliza el teorema de Bayes para calcular la probabilidad de que pertenezca a cada clase de calificación, y predice la clase con la probabilidad más alta.\n",
        "\n",
        "* **Evaluación del modelo:** Se evalúa el rendimiento del modelo utilizando métricas como precisión, recall y F1-score en un conjunto de datos de prueba."
      ]
    },
    {
      "cell_type": "markdown",
      "source": [
        "**Fuentes:**\n",
        "\n",
        "IBM. (2023). What are naïve Bayes classifiers? https://www.ibm.com/topics/naive-bayes\n",
        "\n",
        "Saritaş, M. M., & Yaşar, A. (2019). Performance Analysis of ANN and Naive Bayes Classification Algorithm for Data Classification. International Journal Of Intelligent Systems And Applications In Engineering, 7(2), 88-91. https://doi.org/10.18201/ijisae.2019252786"
      ],
      "metadata": {
        "id": "OburYQuqKFM3"
      }
    },
    {
      "cell_type": "markdown",
      "metadata": {
        "id": "1cBtypV77F1c"
      },
      "source": [
        "### Implementación:"
      ]
    },
    {
      "cell_type": "markdown",
      "metadata": {
        "id": "JhgODxMoXQaK"
      },
      "source": [
        "Comenzamos por copiar el conjunto de datos a una nueva variable"
      ]
    },
    {
      "cell_type": "code",
      "execution_count": null,
      "metadata": {
        "id": "v4V8U2unnAkm"
      },
      "outputs": [],
      "source": [
        "#Copia de los datos\n",
        "data = data_prep.copy()"
      ]
    },
    {
      "cell_type": "markdown",
      "metadata": {
        "id": "Et1ynovlXYTO"
      },
      "source": [
        "Separamos el conjunto se labels y de featues para posteriormente pasarselos de forma separada al algoritmo."
      ]
    },
    {
      "cell_type": "markdown",
      "source": [
        "Tener un gran número de características irrelevantes puede tener un impacto negativo en el rendimiento del modelo, especialmente haciendo uso del algoritmo de Naive Bayes, que es sensible a un alto numero de caracteristicas irrelevantes. Estas características adicionales pueden introducir ruido en los datos, lo que dificulta que el modelo encuentre patrones significativos. Esto puede conducir a un sobreajuste, donde el modelo se adapta demasiado a los datos de entrenamiento y no puede generalizar bien a nuevos datos. Además, el aumento en la dimensionalidad debido a las características irrelevantes puede hacer que el modelo sea más complejo y aumentar el tiempo de entrenamiento y predicción. Por lo tanto, es importante eliminar características que no contribuyan significativamente a la tarea de clasificación para mejorar la precisión y la eficiencia del modelo. En este caso, al eliminar las características menos frecuentes e irrelevantes, estamos reduciendo la complejidad del modelo y eliminando el ruido de los datos, lo que debería mejorar su capacidad de generalización y rendimiento.\n",
        "\n",
        "\n",
        "\n",
        "\n",
        "\n"
      ],
      "metadata": {
        "id": "CFOc5ZAhFUcV"
      }
    },
    {
      "cell_type": "code",
      "source": [
        "# Imprimir el número de columnas en el conjunto de datos\n",
        "print(\"Número de columnas en el conjunto de datos inicialmente:\", len(data.columns))\n",
        "\n",
        "# Eliminar las columnas menos relevantes\n",
        "label = 'Class'\n",
        "features = data.columns.to_list()\n",
        "features.remove(label)\n",
        "\n",
        "# Calcular el promedio de cada columna (excepto la etiqueta)\n",
        "column_averages = data.drop(columns=label).mean()\n",
        "\n",
        "# Ordenar las columnas por su promedio (de menor a mayor)\n",
        "sorted_columns = column_averages.sort_values()\n",
        "\n",
        "# Eliminar las columnas menos frecuentes e irrelevantes\n",
        "\n",
        "# Calcular el número de columnas a eliminar (porcentaje)\n",
        "percentage_to_drop = 0.05  #  eliminar el 5% de las características menos relevantes\n",
        "num_columns_to_drop = int(len(column_averages) * percentage_to_drop)\n",
        "\n",
        "columns_to_drop = sorted_columns.index[:num_columns_to_drop]  # Se elimina el 20% de columnas con los promedios más bajos\n",
        "data.drop(columns=columns_to_drop, inplace=True)\n",
        "\n",
        "# Eliminar filas con todos los valores iguales a 0 (excepto la columna de etiqueta)\n",
        "data = data.loc[(data.drop(columns=label) != 0).any(axis=1)]\n",
        "\n",
        "# Imprimir el número de columnas en el conjunto de datos\n",
        "print(\"Número de columnas en el conjunto de datos despues de eliminar caracteristicas irrelevantes:\", len(data.columns))\n",
        "\n",
        "\n"
      ],
      "metadata": {
        "colab": {
          "base_uri": "https://localhost:8080/"
        },
        "id": "90LPRtHDCi69",
        "outputId": "fffdae76-5401-4f15-a783-38b1adca9da4"
      },
      "execution_count": null,
      "outputs": [
        {
          "output_type": "stream",
          "name": "stdout",
          "text": [
            "Número de columnas en el conjunto de datos inicialmente: 20871\n",
            "Número de columnas en el conjunto de datos despues de eliminar caracteristicas irrelevantes: 19828\n"
          ]
        }
      ]
    },
    {
      "cell_type": "code",
      "execution_count": null,
      "metadata": {
        "id": "8FzLcQQlnBEM"
      },
      "outputs": [],
      "source": [
        "#Identificación de la etiqueta y de las variables explicativas\n",
        "\n",
        "label = 'Class'\n",
        "features = data.columns.to_list()\n",
        "features.remove(label)"
      ]
    },
    {
      "cell_type": "markdown",
      "metadata": {
        "id": "zDwtGzKzzX_T"
      },
      "source": [
        "Dado que una de las principales desventajas del algoritmo de Naive Bayes es su sensibilidad a caracteristicas irrelevantes, se consideró la posibilidad de eliminar los datos anomalos del conjunto de datos antes de entrenar el modelo, con el objetivo de reducir el numero de caracteristicas irrelevantes existentes. No obstante, se encontró que realizar este proceso tenia un efecto negativo sobre la calidad del modelo, por lo que tomó la decisión de evitar este paso."
      ]
    },
    {
      "cell_type": "code",
      "execution_count": null,
      "metadata": {
        "id": "rcPioOrFzVDC"
      },
      "outputs": [],
      "source": [
        "# # Eliminación de valores anómalos\n",
        "# Q1 = data[features].quantile(0.25)\n",
        "# Q3 = data[features].quantile(0.75)\n",
        "# IQR = Q3 - Q1\n",
        "# data = data[~((data[features] < (Q1 - 1.5 * IQR)) | (data[features] > (Q3 + 1.5 * IQR))).any(axis=1)]"
      ]
    },
    {
      "cell_type": "markdown",
      "metadata": {
        "id": "cnzBPGIEXkhz"
      },
      "source": [
        "Generamos un conjunto de entrenamiento y un  conjunto de prueba para poder verificar la calidad del modelo posteriormente."
      ]
    },
    {
      "cell_type": "code",
      "execution_count": null,
      "metadata": {
        "id": "r3doy3jvqXCu"
      },
      "outputs": [],
      "source": [
        "# División del conjunto de datos en entrenamiento y prueba\n",
        "x_train, x_test, y_train, y_test = train_test_split(data[features], data[label], test_size=0.2, random_state=1)"
      ]
    },
    {
      "cell_type": "markdown",
      "metadata": {
        "id": "r5_yoIU-Xz0Z"
      },
      "source": [
        "Inicializamos el clasificador de Naive Bayes usando la implementación de Gaussian Naive Bayes"
      ]
    },
    {
      "cell_type": "code",
      "execution_count": null,
      "metadata": {
        "id": "lKosOpa2qYZl"
      },
      "outputs": [],
      "source": [
        "# Inicialización del clasificador Naive Bayes\n",
        "naive_bayes_classifier = GaussianNB()"
      ]
    },
    {
      "cell_type": "markdown",
      "source": [
        "Aunque Naive Bayes no tiene hiperparámetros esenciales, uno de los hiperparámetros opcionales que puede ajustarse es var_smoothing, que controla la suavización de las probabilidades en el clasificador Naive Bayes Gaussiano. Esta técnica es útil para abordar el problema de cero frecuencia en los datos, donde ciertas características pueden tener una frecuencia de cero en una clase particular, lo que lleva a una probabilidad de cero para esa clase. El parámetro var_smoothing agrega un pequeño valor de suavizado a las varianzas de todas las características, evitando así la multiplicación de probabilidades por cero durante la estimación de la probabilidad. Buscar el mejor valor para var_smoothing mediante técnicas como la búsqueda en cuadrícula o la búsqueda aleatoria puede ayudar a encontrar un equilibrio óptimo entre la precisión y el sobreajuste del modelo, mejorando así la calidad general del modelo.\n",
        "\n",
        "\n",
        "\n",
        "\n",
        "\n",
        "\n"
      ],
      "metadata": {
        "id": "XtsO1SqyNm4r"
      }
    },
    {
      "cell_type": "code",
      "source": [
        "# Definir los hiperparámetros a probar\n",
        "parameters = {\n",
        "    'var_smoothing': [1e-9, 1e-8, 1e-7, 1e-6, 1e-5]\n",
        "}"
      ],
      "metadata": {
        "id": "5QKSNHIUNZCB"
      },
      "execution_count": null,
      "outputs": []
    },
    {
      "cell_type": "markdown",
      "metadata": {
        "id": "zU_G2eK9YF5j"
      },
      "source": [
        "Entrenamos el modelo haciendo uso del set de entrenamiento."
      ]
    },
    {
      "cell_type": "code",
      "source": [
        "# Realizar la búsqueda en cuadrícula con validación cruzada\n",
        "grid_search = GridSearchCV(naive_bayes_classifier, parameters, cv=5)\n",
        "grid_search.fit(x_train, y_train)\n",
        "\n",
        "# Imprimir los mejores parámetros encontrados\n",
        "print(\"Mejores parámetros:\", grid_search.best_params_)"
      ],
      "metadata": {
        "colab": {
          "base_uri": "https://localhost:8080/"
        },
        "id": "rJAF2EzNNZpF",
        "outputId": "38e00970-b5c8-46fa-95d9-93e100110237"
      },
      "execution_count": null,
      "outputs": [
        {
          "output_type": "stream",
          "name": "stdout",
          "text": [
            "Mejores parámetros: {'var_smoothing': 1e-05}\n"
          ]
        }
      ]
    },
    {
      "cell_type": "markdown",
      "metadata": {
        "id": "B2HH978OYQ6w"
      },
      "source": [
        "Utilizamos el modelo para y comparamos las etiquetas provistas con las etiquetas asignadas por el modelo para calcular la calidad del modelo"
      ]
    },
    {
      "cell_type": "code",
      "execution_count": null,
      "metadata": {
        "id": "HomK9StWr_kE"
      },
      "outputs": [],
      "source": [
        "# Predicción en los conjuntos de entrenamiento y prueba\n",
        "y_pred_train = grid_search.predict(x_train)\n",
        "y_pred_test = grid_search.predict(x_test)"
      ]
    },
    {
      "cell_type": "code",
      "execution_count": null,
      "metadata": {
        "id": "oPiowIg0sAxX",
        "colab": {
          "base_uri": "https://localhost:8080/"
        },
        "outputId": "c6c9b65b-ea13-4b65-a819-9b040eb6b4de"
      },
      "outputs": [
        {
          "output_type": "stream",
          "name": "stdout",
          "text": [
            "Métricas del conjunto de entrenamiento:\n",
            "              precision    recall  f1-score   support\n",
            "\n",
            "           1       0.63      1.00      0.78       635\n",
            "           2       0.78      0.94      0.85       912\n",
            "           3       0.90      0.88      0.89      1223\n",
            "           4       0.91      0.85      0.88      1576\n",
            "           5       1.00      0.78      0.88      1897\n",
            "\n",
            "    accuracy                           0.86      6243\n",
            "   macro avg       0.85      0.89      0.86      6243\n",
            "weighted avg       0.89      0.86      0.87      6243\n",
            "\n"
          ]
        }
      ],
      "source": [
        "# Métricas de predicción vs prueba\n",
        "print(\"Métricas del conjunto de entrenamiento:\")\n",
        "print(classification_report(y_train, y_pred_train))"
      ]
    },
    {
      "cell_type": "code",
      "execution_count": null,
      "metadata": {
        "id": "75Tghy6esBy7",
        "colab": {
          "base_uri": "https://localhost:8080/"
        },
        "outputId": "f5517c1c-9cb7-4eb7-bff6-08c1dc051f0e"
      },
      "outputs": [
        {
          "output_type": "stream",
          "name": "stdout",
          "text": [
            "Métricas del conjunto de prueba:\n",
            "              precision    recall  f1-score   support\n",
            "\n",
            "           1       0.16      0.31      0.21       154\n",
            "           2       0.27      0.38      0.31       248\n",
            "           3       0.25      0.24      0.25       330\n",
            "           4       0.31      0.24      0.27       387\n",
            "           5       0.44      0.31      0.36       442\n",
            "\n",
            "    accuracy                           0.29      1561\n",
            "   macro avg       0.29      0.29      0.28      1561\n",
            "weighted avg       0.31      0.29      0.29      1561\n",
            "\n"
          ]
        }
      ],
      "source": [
        "# Métricas de predicción vs prueba\n",
        "print(\"Métricas del conjunto de prueba:\")\n",
        "print(classification_report(y_test, y_pred_test))"
      ]
    },
    {
      "cell_type": "markdown",
      "source": [
        "A pesar de los esfuerzos realizados en el modelado, los resultados obtenidos no alcanzan el nivel deseado de calidad. Si bien las métricas de precisión y recall son consistentes en su desempeño moderado, con valores oscilando entre 0.16 y 0.44 para la precisión y entre 0.24 y 0.38 para recall, respectivamente, el puntaje F1 general del modelo es de solo 0.29. Esto indica que el modelo no logra un equilibrio satisfactorio entre la precisión y el recall, lo que puede ser atribuido a una proporción desfavorable de falsos positivos y falsos negativos en las predicciones.\n",
        "\n",
        "Un puntaje F1 de 0.29 sugiere que el modelo no está generalizando bien a través de las clases, lo que implica una capacidad limitada para clasificar correctamente las reseñas en las cinco categorías. Los falsos positivos representan las instancias incorrectamente clasificadas como positivas, mientras que los falsos negativos son las instancias incorrectamente clasificadas como negativas. En nuestro contexto de clasificación de reseñas, esto significa que el modelo está cometiendo errores tanto al sobrevalorar como al subvalorar las reseñas. En términos del negocio, esto podría traducirse en una experiencia insatisfactoria para aquellos interesados en el obtener información valiosa del modelo, como pueden ser las caracteristicas de un hotel que mas influyen en una review.\n",
        "\n",
        "En última instancia, determinar si el modelo es adecuado para el negocio dependerá de qué tan cerca esté de calificar correctamente las reseñas en la escala de 1 a 5 (Dado que un modelo que incorrectamente asigna una calificación de 5 a una review etiquetada con un score de 1 seria completamente inutil para el negocio, mientras que un modelo que incorrectamente asigna un 4 en lugar de un 5 es un modelo que si tiene un entendimiento decente de como las caracteristicas afectan a la calificación final de una review). Para evaluar esto más a fondo, sería útil construir una matriz de confusión que muestre con claridad los errores de clasificación del modelo."
      ],
      "metadata": {
        "id": "E0445YoJZQwo"
      }
    },
    {
      "cell_type": "markdown",
      "metadata": {
        "id": "nq9u9VsWyAGU"
      },
      "source": [
        "Dicho esto, generamos la matriz de confusión para visualizar la cantidad de aciertos y errores que tuvo el modelo al intentar etiquetar los datos"
      ]
    },
    {
      "cell_type": "code",
      "execution_count": null,
      "metadata": {
        "id": "fb_eyLIgxJ_T",
        "colab": {
          "base_uri": "https://localhost:8080/",
          "height": 472
        },
        "outputId": "0a8a804e-0726-4059-e55b-b6bffb0de9a9"
      },
      "outputs": [
        {
          "output_type": "display_data",
          "data": {
            "text/plain": [
              "<Figure size 640x480 with 2 Axes>"
            ],
            "image/png": "[encoded data removed]"
          },
          "metadata": {}
        }
      ],
      "source": [
        "\n",
        "# Calcular la matriz de confusión\n",
        "cm = confusion_matrix(y_test, y_pred_test)\n",
        "\n",
        "# Configurar y mostrar la matriz de confusión\n",
        "disp = ConfusionMatrixDisplay(confusion_matrix=cm, display_labels=grid_search.classes_)\n",
        "disp.plot(cmap=plt.cm.Blues)\n",
        "plt.title('Matriz de Confusión')\n",
        "plt.xlabel('Predicciones')\n",
        "plt.ylabel('Valores verdaderos')\n",
        "plt.show()"
      ]
    },
    {
      "cell_type": "markdown",
      "source": [
        "A partir de la matriz de confusión, podemos observar que la mayoría de las reseñas clasificadas incorrectamente por el modelo están asignadas a valores cercanos al valor verdadero. Por ejemplo, si el valor verdadero de la reseña es 4 o 5, la mayoría de los errores del modelo tienden a estar en los valores 3 o 5, que son relativamente cercanos al valor correcto. Además, son relativamente pocos los errores que están considerablemente mal clasificados.\n",
        "\n",
        "Sin embargo, existe una clara tendencia en la matriz de confusión hacia la sobrevaloración de las reseñas. Esto sugiere que el modelo tiende a identificar correctamente los elementos que contribuyen a una reseña positiva, pero tiene dificultades para identificar los aspectos negativos de una reseña. Esto es un factor crucial, ya que los stakeholders como los gerentes de hoteles están interesados en identificar las características específicas de sus hoteles que llevan a reseñas negativas para poder corregirlas. Por lo tanto, este modelo puede no proporcionarles a estos gerentes una comprensión completa de las áreas que necesitan mejorar para aumentar sus calificaciones."
      ],
      "metadata": {
        "id": "CAqS0J92cz1a"
      }
    },
    {
      "cell_type": "code",
      "execution_count": null,
      "metadata": {
        "id": "R5LINtILXFEJ"
      },
      "outputs": [],
      "source": [
        "del data, features, naive_bayes_classifier, y_pred_train, y_pred_test"
      ]
    },
    {
      "cell_type": "markdown",
      "metadata": {
        "id": "rJ3MFexUbUIH"
      },
      "source": [
        "## Algoritmo de regresión logística [Daniel Escalante Perez]"
      ]
    },
    {
      "cell_type": "markdown",
      "metadata": {
        "id": "V1viH0jLIRkO"
      },
      "source": [
        "### Descripción del Algoritmo:"
      ]
    },
    {
      "cell_type": "markdown",
      "metadata": {
        "id": "B5ESKhQOIXr6"
      },
      "source": [
        "La regresión logistica es un algoritmo de machine learning para la tarea de clasificación enfocada en la tarea de analitica predictiva. La regresión logistica es un ejemplar de aprendizaje supervisado. Lo que hace este algoritmo es predecir la probabilidad que un ejemplar de que ocurra un evento, en este caso de que se tome cierta clase o no se tome una clase.\n",
        "\n",
        "Como suena, se puede ver que es un algoritmo para clases binarias, no obstante, se puede aplicar la tecnica OvR que significa One vs Rest que implica crear modelos por tantas clases se vayan a analizar. Ya con esto, en cada una se toma una clase diferente a analizar, y todas las demas clases se ponen en una clase nueva que sea \"todas las que no son la seleccionada\", de esta forma se pueden tener 2 clases solamente.\n",
        "\n",
        "La regresión logistica se basa en el uso de la función sigmoidea:\n",
        "\n"
      ]
    },
    {
      "cell_type": "markdown",
      "metadata": {
        "id": "BKWV95HpOQ4k"
      },
      "source": [
        "![images.png](data:image/png;base64,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)"
      ]
    },
    {
      "cell_type": "markdown",
      "metadata": {
        "id": "aN5t61BeLtjI"
      },
      "source": [
        "\n",
        "Esta función mapea cualquier valor real dentro de un rango de 0 a 1."
      ]
    },
    {
      "cell_type": "markdown",
      "metadata": {
        "id": "s3139lQ5LkXs"
      },
      "source": [
        "![45-5.png](data:image/png;base64,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)"
      ]
    },
    {
      "cell_type": "markdown",
      "metadata": {
        "id": "a1ucyYioLvEd"
      },
      "source": [
        "Ajustando el exponente negativo para que quede positivo. La formula de la regresión logistica es la que se ve en la imagen anterior. Lo que hace es tomar una formula similar a la de una regresión lineal con un bias (b0) y un coeficiente (b1). Esto se hace para relacionar linealmente la variable independiente con una variable x con la cual se calculara la probabilidad del evento positivo usando la función sigmoidea, la que el valor de x a uno entre 0 y 1. De esta manera cuando un mayor valor de una variable explicativa hace que se tome la clase positiva, entonces el coeficiente de esta variable explicativa sera positivo para hacer crecer la expresión lineal cuando incrementa la variable. Con esto en cuenta, si incrementa la expresión lineal, entonces el resultado de la función se acercara más a 1 por lo que tomara esta clase con mayor probabilidad. Lo que hace el algoritmo es tomar un umbral y si la probablidad cruza ese umbral asignara esa entrada a la clase positiva y de lo contrario asignara la negativa.\n",
        "\n",
        "En el caso de OVR, las formulas sacaran las probabilidades, se tomara el modelo que diga que con mayor probabilidad que el resultado sera la clase positiva de ese modelo y se asignara la clase de ese modelo entre todos los del OVR.\n",
        "\n",
        "Como se observó, es un algoritmo simple y ya con los coeficientes calculados en el entrenamiento se puede clasificar un nuevo dato facilmente haciendo la evaluación de la ecuación.\n",
        "\n",
        "Para entrenar el algoritmo se buscan los b0 y b1 de todas las variables usando stochastic gradient descent y cross-entropy loss. Siendo el primero el metodo de optimización y el segundo la función de costo que se busca reducir para acercarse al resultado verdadero con la predicción.\n",
        "\n",
        "Stochastic gradient descent prueba valores para los parametros iterativamente acercandose el optimo de la función de costo que mide el error entre las probabilidades calculadas y la clase verdadera del dato que se esta trabajando.\n",
        "\n",
        "Para usar el modelo se tienen multiples supuestos como la no multicolinealidad entre las variables explicativas. Que los datos sean suficientes ya que el modelo se beneficia de muchas observaciones. Tambien, se deben evitar los atipicos extremos. Adicionalmente, las observaciones deben ser independientes entre si. Por ultimo, debe haber una relación lineal entre las variables y el logaritmo de (exitos/fallos).\n",
        "\n",
        "Para medir el desempeño del modelo se utilizaran las metricas de los modelos de clasificación tales como lo son la precision, recall, f1-score, accuracy y la matriz de confusión.\n",
        "\n",
        "Adicionalmente, usaremos los coeficientes proporcionados y hallados por el modelo para interpretar la solución y poder observar que variables afectan positivamente la selección de una clase.\n",
        "\n",
        "Para la configuración de hiperparametros se deben configurar para el caso de scilearn el solver, penalty y el regularization strength. El solver es el algoritmo que se usa para resolver el problema de optimización. La penalidad es usada para evitar el sobreajuste y generalizar mejor el problema, con este podemos evitar que el modelo se haga muy complejo. Por ultimo, la regularization strength (C), se usa para evitar que el modelo sea tan complejo, entre más pequeño, más regulado esta el modelo, entre más alto se da más importancia a los datos de entrenamiento.\n",
        "\n",
        "Para encontrar la mejor combinación de hiperparametros se usara la busqueda de hiperparametros con validación cruzada (Dividir los datos de entrenamiento y dejar aparte un pedazo, entrenar sobre el resto y evaluar sobre el pedazo y repetir cambiando el pedazo, sacando el promedio de las metricas de todas las pruebas). Esta va evaluar las combinaciones de hiperparametros con busqueda cruzada buscando la combinación que proporcione las mejores metricas promedio de la evaluación cruzada."
      ]
    },
    {
      "cell_type": "markdown",
      "metadata": {
        "id": "3-cnWGxCvO2s"
      },
      "source": [
        "Para usar el modelo se tienen multiples supuestos como la no multicolinealidad entre las variables explicativas. Que los datos sean suficientes ya que el modelo se beneficia de muchas observaciones. Tambien, se deben evitar los atipicos extremos. Adicionalmente, las observaciones deben ser independientes entre si. Por ultimo, debe haber una relación lineal entre las variables y el logaritmo de (exitos/fallos). Algo recomendable es que el set de datos sea linealmente separable.\n",
        "\n",
        "Para verificar si un dataset sea linealmente separable se puede entrenar un Perceptron (algoritmo de clasificación) y si los datos son linealmente separables, el algoritmo encontrará un hiperplano en un numero finito de iteraciones."
      ]
    },
    {
      "cell_type": "markdown",
      "metadata": {
        "id": "wsZduoR0Ww9W"
      },
      "source": [
        "#### Fuentes:\n",
        "\n",
        "\n",
        "*   https://www.spiceworks.com/tech/artificial-intelligence/articles/what-is-logistic-regression/\n",
        "*   https://www.kaggle.com/code/satishgunjal/multiclass-logistic-regression-using-sklearn\n",
        "*   https://rukshanpramoditha.medium.com/logistic-regression-for-multiclass-classification-3-strategies-you-need-to-know-0a3e74574b96\n",
        "*   https://web.stanford.edu/~jurafsky/slp3/5.pdf\n",
        "*   https://medium.com/@Coursesteach/deep-learning-part-7-6e78057a9ca6\n",
        "*   https://medium.com/codex/do-i-need-to-tune-logistic-regression-hyperparameters-1cb2b81fca69\n",
        "*   https://www.cs.cornell.edu/courses/cs4780/2018fa/lectures/lecturenote03.html#:~:text=The%20Perceptron%20was%20arguably%20the,%2C%20it%20will%20loop%20forever.)\n",
        "*   https://scikit-learn.org/stable/modules/generated/sklearn.linear_model.Perceptron.html\n",
        "\n"
      ]
    },
    {
      "cell_type": "code",
      "execution_count": null,
      "metadata": {
        "id": "ToPGH1kjUybQ"
      },
      "outputs": [],
      "source": [
        "#Copia de los datos\n",
        "data = data_prep.copy()"
      ]
    },
    {
      "cell_type": "code",
      "execution_count": null,
      "metadata": {
        "id": "ciGRIFXcLceW"
      },
      "outputs": [],
      "source": [
        "#Identificación de la etiqueta y de las variables explicativas\n",
        "\n",
        "label = 'Class'\n",
        "features = data.columns.to_list()\n",
        "features.remove(label)"
      ]
    },
    {
      "cell_type": "code",
      "execution_count": null,
      "metadata": {
        "id": "QDQhl4tSNbIo",
        "colab": {
          "base_uri": "https://localhost:8080/"
        },
        "outputId": "2254b4b8-a3e9-4156-8d3b-220f1ef95af5"
      },
      "outputs": [
        {
          "output_type": "execute_result",
          "data": {
            "text/plain": [
              "Class\n",
              "5    2339\n",
              "4    1963\n",
              "3    1553\n",
              "2    1160\n",
              "1     789\n",
              "Name: count, dtype: int64"
            ]
          },
          "metadata": {},
          "execution_count": 60
        }
      ],
      "source": [
        "data['Class'].value_counts()"
      ]
    },
    {
      "cell_type": "code",
      "execution_count": null,
      "metadata": {
        "id": "xCB1Jw2ANf9u",
        "colab": {
          "base_uri": "https://localhost:8080/"
        },
        "outputId": "eaf37844-c778-47fd-dd9e-19c91118e4e2"
      },
      "outputs": [
        {
          "output_type": "execute_result",
          "data": {
            "text/plain": [
              "0"
            ]
          },
          "metadata": {},
          "execution_count": 61
        }
      ],
      "source": [
        "data.isnull().any(axis=0).sum()"
      ]
    },
    {
      "cell_type": "code",
      "execution_count": null,
      "metadata": {
        "id": "7UnYDYpARd8T",
        "colab": {
          "base_uri": "https://localhost:8080/"
        },
        "outputId": "5c8884e5-3f8d-43b5-a94b-b050473ce171"
      },
      "outputs": [
        {
          "output_type": "execute_result",
          "data": {
            "text/plain": [
              "0"
            ]
          },
          "metadata": {},
          "execution_count": 62
        }
      ],
      "source": [
        "data.duplicated().sum()"
      ]
    },
    {
      "cell_type": "code",
      "execution_count": null,
      "metadata": {
        "id": "AoH9Wc1XQkps",
        "colab": {
          "base_uri": "https://localhost:8080/"
        },
        "outputId": "c77d091c-e59d-4180-cf40-88f8b6bf1066"
      },
      "outputs": [
        {
          "output_type": "execute_result",
          "data": {
            "text/plain": [
              "0"
            ]
          },
          "metadata": {},
          "execution_count": 63
        }
      ],
      "source": [
        "data[features].duplicated().sum()"
      ]
    },
    {
      "cell_type": "code",
      "execution_count": null,
      "metadata": {
        "id": "CBFm1qAMSKRd",
        "colab": {
          "base_uri": "https://localhost:8080/"
        },
        "outputId": "1e63dd6b-6722-4099-e544-4b791f2f05b9"
      },
      "outputs": [
        {
          "output_type": "execute_result",
          "data": {
            "text/plain": [
              "(7804, 20871)"
            ]
          },
          "metadata": {},
          "execution_count": 64
        }
      ],
      "source": [
        "data.shape"
      ]
    },
    {
      "cell_type": "markdown",
      "metadata": {
        "id": "qq5Y7UW4UD1h"
      },
      "source": [
        "### Implementación"
      ]
    },
    {
      "cell_type": "markdown",
      "metadata": {
        "id": "ETY5TgsiwOBj"
      },
      "source": [
        "Se va a asumir la independencia y no multicolinealidad entre las variables explicativas ya que entre palabras los casos son muy pocos, adicionalmente, ocurren en conectores o palabras comunes que probablemente se hayan retirado en la preparación. Tambien sacar la correlación entre cada una de las más de 20000 variables es computacionalmente costoso. Adicionalmente, luego de haberlo intentado se ve que se borra información importante y se pierde calidad del modelo. Por esto el proceso de borrar variables correlacionadas queda comentado."
      ]
    },
    {
      "cell_type": "code",
      "execution_count": null,
      "metadata": {
        "id": "0D_17nqcwuwU"
      },
      "outputs": [],
      "source": [
        "#Sacamos el mapa de correlación pero solo tomando como 1 los mayores a 0.6 en valor absoluto\n",
        "#minimun = 0.6\n",
        "#plt.figure(figsize=(12, 10))\n",
        "#columns_heatmap = features.copy()\n",
        "#map = data[columns_heatmap].corr().abs().applymap(lambda x: 0 if (x < minimun) else 1)"
      ]
    },
    {
      "cell_type": "code",
      "execution_count": null,
      "metadata": {
        "id": "VeIRRyh0x_7T"
      },
      "outputs": [],
      "source": [
        "#Sacar un arreglo de tuplas con las columnas correlacionadas\n",
        "#correlated_cols = set()\n",
        "#for i, col in enumerate(columns_heatmap):\n",
        "#  for j, col2 in enumerate(columns_heatmap):\n",
        "#    if (j < i and map.loc[col, col2] == 1):\n",
        "#      correlated_cols.add(col)"
      ]
    },
    {
      "cell_type": "code",
      "execution_count": null,
      "metadata": {
        "id": "w2FsHQv6zqMP"
      },
      "outputs": [],
      "source": [
        "#for i in correlated_cols:\n",
        "#  data = data.drop(i, axis=1)"
      ]
    },
    {
      "cell_type": "code",
      "execution_count": null,
      "metadata": {
        "id": "AlOZvB4sLVWp"
      },
      "outputs": [],
      "source": [
        "#features = data.columns.to_list()\n",
        "#features.remove(label)"
      ]
    },
    {
      "cell_type": "code",
      "execution_count": null,
      "metadata": {
        "id": "qnfe6PRs4dc_"
      },
      "outputs": [],
      "source": [
        "#data.shape"
      ]
    },
    {
      "cell_type": "code",
      "execution_count": null,
      "metadata": {
        "id": "AhP4zCP1ZaEW"
      },
      "outputs": [],
      "source": [
        "#data.duplicated().sum()"
      ]
    },
    {
      "cell_type": "code",
      "execution_count": null,
      "metadata": {
        "id": "YKwrknTtcCAs",
        "colab": {
          "base_uri": "https://localhost:8080/"
        },
        "outputId": "c5bf4733-31e2-4d0d-a53e-f31ed6cc725e"
      },
      "outputs": [
        {
          "output_type": "stream",
          "name": "stdout",
          "text": [
            "Duplicados de features:  0\n",
            "Duplicados Totales:  0\n",
            "Shape:  (7804, 20871)\n"
          ]
        },
        {
          "output_type": "execute_result",
          "data": {
            "text/plain": [
              "Class\n",
              "5    2339\n",
              "4    1963\n",
              "3    1553\n",
              "2    1160\n",
              "1     789\n",
              "Name: count, dtype: int64"
            ]
          },
          "metadata": {},
          "execution_count": 71
        }
      ],
      "source": [
        "#Con el fin de reducir el tamaño del problema y tambien balancear un poco las clases se retiran los registros repetidos. Los cuales eran pocos\n",
        "#y no afectaran la calidad del modelo ni la representación en el negocio.\n",
        "print(\"Duplicados de features: \", data[features].duplicated().sum())\n",
        "print(\"Duplicados Totales: \", data.duplicated().sum())\n",
        "print(\"Shape: \", data.shape)\n",
        "data[\"Class\"].value_counts()"
      ]
    },
    {
      "cell_type": "markdown",
      "metadata": {
        "id": "m6mnuF9tI_-f"
      },
      "source": [
        "\n",
        "Ahora, para cumplir con el supuesto de los datos atipicos extremos se intentara ver que tanta información se pierde si se borran. Si se pierde mucha información se prefiere mantener estas representaciones de información que si bien es lejana, representa el negocio."
      ]
    },
    {
      "cell_type": "code",
      "execution_count": null,
      "metadata": {
        "id": "oLa_4SAiLOH4"
      },
      "outputs": [],
      "source": [
        "##Eliminación sobre una copia de los datos atipicos para ver que tanto se perderia\n",
        "#dataTest = data.copy()\n",
        "\n",
        "#for i in features:\n",
        "#  #Proceso de borrado sobre una prueba de datos\n",
        "#  q1 = dataTest[i].quantile(0.25)\n",
        "#  q3 = dataTest[i].quantile(0.75)\n",
        "#  intQRange = q3 - q1\n",
        "#  lower_bound = q1 - 1.5 * intQRange\n",
        "#  upper_bound = q3 + 1.5 * intQRange\n",
        "\n",
        "#  valid = (dataTest[i] <= upper_bound) & (dataTest[i] >= lower_bound)\n",
        "#  dataTest = dataTest.loc[valid, :]\n",
        "\n",
        "\n",
        "\n",
        "#dataTest.shape"
      ]
    },
    {
      "cell_type": "code",
      "execution_count": null,
      "metadata": {
        "id": "5e8EzrFG6JP7"
      },
      "outputs": [],
      "source": [
        "#dataTest = None"
      ]
    },
    {
      "cell_type": "markdown",
      "metadata": {
        "id": "U_DN7zZxI4Bi"
      },
      "source": [
        "Ya con estas preparaciones extra se puede continuar con la separación de los datos en los conjuntos de entrenamiento y prueba."
      ]
    },
    {
      "cell_type": "code",
      "execution_count": null,
      "metadata": {
        "id": "-Hz1GayQU8Um"
      },
      "outputs": [],
      "source": [
        "#Identificación de la etiqueta y de las variables explicativas\n",
        "\n",
        "label = 'Class'\n",
        "features = data.columns.to_list()\n",
        "features.remove(label)"
      ]
    },
    {
      "cell_type": "code",
      "execution_count": null,
      "metadata": {
        "id": "SYzJDkvkUILD"
      },
      "outputs": [],
      "source": [
        "#División del conjunto de datos en entrenamiento y prueba\n",
        "\n",
        "x_train, x_test, y_train, y_test = train_test_split(data[features], data[label], test_size=0.2, random_state=1)"
      ]
    },
    {
      "cell_type": "markdown",
      "metadata": {
        "id": "X8g3le0O4IRt"
      },
      "source": [
        "Antes de realizar el modelo, se revisara la separabilidad lineal con el metodo del perceptron."
      ]
    },
    {
      "cell_type": "code",
      "execution_count": null,
      "metadata": {
        "id": "Rz9IaLZU_j0E",
        "colab": {
          "base_uri": "https://localhost:8080/",
          "height": 118
        },
        "outputId": "2e186169-a780-4365-cae6-75a4ee4d0b61"
      },
      "outputs": [
        {
          "output_type": "execute_result",
          "data": {
            "text/plain": [
              "OneVsRestClassifier(estimator=Perceptron())"
            ],
            "text/html": [
              "<style>#sk-container-id-1 {color: black;background-color: white;}#sk-container-id-1 pre{padding: 0;}#sk-container-id-1 div.sk-toggleable {background-color: white;}#sk-container-id-1 label.sk-toggleable__label {cursor: pointer;display: block;width: 100%;margin-bottom: 0;padding: 0.3em;box-sizing: border-box;text-align: center;}#sk-container-id-1 label.sk-toggleable__label-arrow:before {content: \"▸\";float: left;margin-right: 0.25em;color: #696969;}#sk-container-id-1 label.sk-toggleable__label-arrow:hover:before {color: black;}#sk-container-id-1 div.sk-estimator:hover label.sk-toggleable__label-arrow:before {color: black;}#sk-container-id-1 div.sk-toggleable__content {max-height: 0;max-width: 0;overflow: hidden;text-align: left;background-color: #f0f8ff;}#sk-container-id-1 div.sk-toggleable__content pre {margin: 0.2em;color: black;border-radius: 0.25em;background-color: #f0f8ff;}#sk-container-id-1 input.sk-toggleable__control:checked~div.sk-toggleable__content {max-height: 200px;max-width: 100%;overflow: auto;}#sk-container-id-1 input.sk-toggleable__control:checked~label.sk-toggleable__label-arrow:before {content: \"▾\";}#sk-container-id-1 div.sk-estimator input.sk-toggleable__control:checked~label.sk-toggleable__label {background-color: #d4ebff;}#sk-container-id-1 div.sk-label input.sk-toggleable__control:checked~label.sk-toggleable__label {background-color: #d4ebff;}#sk-container-id-1 input.sk-hidden--visually {border: 0;clip: rect(1px 1px 1px 1px);clip: rect(1px, 1px, 1px, 1px);height: 1px;margin: -1px;overflow: hidden;padding: 0;position: absolute;width: 1px;}#sk-container-id-1 div.sk-estimator {font-family: monospace;background-color: #f0f8ff;border: 1px dotted black;border-radius: 0.25em;box-sizing: border-box;margin-bottom: 0.5em;}#sk-container-id-1 div.sk-estimator:hover {background-color: #d4ebff;}#sk-container-id-1 div.sk-parallel-item::after {content: \"\";width: 100%;border-bottom: 1px solid gray;flex-grow: 1;}#sk-container-id-1 div.sk-label:hover label.sk-toggleable__label {background-color: #d4ebff;}#sk-container-id-1 div.sk-serial::before {content: \"\";position: absolute;border-left: 1px solid gray;box-sizing: border-box;top: 0;bottom: 0;left: 50%;z-index: 0;}#sk-container-id-1 div.sk-serial {display: flex;flex-direction: column;align-items: center;background-color: white;padding-right: 0.2em;padding-left: 0.2em;position: relative;}#sk-container-id-1 div.sk-item {position: relative;z-index: 1;}#sk-container-id-1 div.sk-parallel {display: flex;align-items: stretch;justify-content: center;background-color: white;position: relative;}#sk-container-id-1 div.sk-item::before, #sk-container-id-1 div.sk-parallel-item::before {content: \"\";position: absolute;border-left: 1px solid gray;box-sizing: border-box;top: 0;bottom: 0;left: 50%;z-index: -1;}#sk-container-id-1 div.sk-parallel-item {display: flex;flex-direction: column;z-index: 1;position: relative;background-color: white;}#sk-container-id-1 div.sk-parallel-item:first-child::after {align-self: flex-end;width: 50%;}#sk-container-id-1 div.sk-parallel-item:last-child::after {align-self: flex-start;width: 50%;}#sk-container-id-1 div.sk-parallel-item:only-child::after {width: 0;}#sk-container-id-1 div.sk-dashed-wrapped {border: 1px dashed gray;margin: 0 0.4em 0.5em 0.4em;box-sizing: border-box;padding-bottom: 0.4em;background-color: white;}#sk-container-id-1 div.sk-label label {font-family: monospace;font-weight: bold;display: inline-block;line-height: 1.2em;}#sk-container-id-1 div.sk-label-container {text-align: center;}#sk-container-id-1 div.sk-container {/* jupyter's `normalize.less` sets `[hidden] { display: none; }` but bootstrap.min.css set `[hidden] { display: none !important; }` so we also need the `!important` here to be able to override the default hidden behavior on the sphinx rendered scikit-learn.org. See: https://github.com/scikit-learn/scikit-learn/issues/21755 */display: inline-block !important;position: relative;}#sk-container-id-1 div.sk-text-repr-fallback {display: none;}</style><div id=\"sk-container-id-1\" class=\"sk-top-container\"><div class=\"sk-text-repr-fallback\"><pre>OneVsRestClassifier(estimator=Perceptron())</pre><b>In a Jupyter environment, please rerun this cell to show the HTML representation or trust the notebook. <br />On GitHub, the HTML representation is unable to render, please try loading this page with nbviewer.org.</b></div><div class=\"sk-container\" hidden><div class=\"sk-item sk-dashed-wrapped\"><div class=\"sk-label-container\"><div class=\"sk-label sk-toggleable\"><input class=\"sk-toggleable__control sk-hidden--visually\" id=\"sk-estimator-id-1\" type=\"checkbox\" ><label for=\"sk-estimator-id-1\" class=\"sk-toggleable__label sk-toggleable__label-arrow\">OneVsRestClassifier</label><div class=\"sk-toggleable__content\"><pre>OneVsRestClassifier(estimator=Perceptron())</pre></div></div></div><div class=\"sk-parallel\"><div class=\"sk-parallel-item\"><div class=\"sk-item\"><div class=\"sk-label-container\"><div class=\"sk-label sk-toggleable\"><input class=\"sk-toggleable__control sk-hidden--visually\" id=\"sk-estimator-id-2\" type=\"checkbox\" ><label for=\"sk-estimator-id-2\" class=\"sk-toggleable__label sk-toggleable__label-arrow\">estimator: Perceptron</label><div class=\"sk-toggleable__content\"><pre>Perceptron()</pre></div></div></div><div class=\"sk-serial\"><div class=\"sk-item\"><div class=\"sk-estimator sk-toggleable\"><input class=\"sk-toggleable__control sk-hidden--visually\" id=\"sk-estimator-id-3\" type=\"checkbox\" ><label for=\"sk-estimator-id-3\" class=\"sk-toggleable__label sk-toggleable__label-arrow\">Perceptron</label><div class=\"sk-toggleable__content\"><pre>Perceptron()</pre></div></div></div></div></div></div></div></div></div></div>"
            ]
          },
          "metadata": {},
          "execution_count": 76
        }
      ],
      "source": [
        "from sklearn.linear_model import Perceptron\n",
        "from sklearn.multiclass import OneVsRestClassifier\n",
        "\n",
        "\n",
        "# Creación de modelos de perceptron\n",
        "perceptron = Perceptron(random_state=0, max_iter=1000)\n",
        "perceptron = OneVsRestClassifier(perceptron)\n",
        "\n",
        "\n",
        "# Entrenamiento de los modelos\n",
        "perceptron.fit(x_train, y_train)"
      ]
    },
    {
      "cell_type": "code",
      "execution_count": null,
      "metadata": {
        "id": "WqHBuYpX_pJz",
        "colab": {
          "base_uri": "https://localhost:8080/"
        },
        "outputId": "001914f0-f0a2-43f2-90a0-56df5b362507"
      },
      "outputs": [
        {
          "output_type": "stream",
          "name": "stdout",
          "text": [
            "Iteraciones: 15\n",
            "Max Iteraciones: 1000\n",
            "Iteraciones: 19\n",
            "Max Iteraciones: 1000\n",
            "Iteraciones: 18\n",
            "Max Iteraciones: 1000\n",
            "Iteraciones: 23\n",
            "Max Iteraciones: 1000\n",
            "Iteraciones: 21\n",
            "Max Iteraciones: 1000\n"
          ]
        }
      ],
      "source": [
        "#Revisión de iteraciones finitas\n",
        "for i in perceptron.estimators_:\n",
        "  print(\"Iteraciones: \" + str(i.n_iter_))\n",
        "  print(\"Max Iteraciones: \" + str(i.max_iter))"
      ]
    },
    {
      "cell_type": "markdown",
      "metadata": {
        "id": "hHE4fFaazhV5"
      },
      "source": [
        "Como se puede ver las iteraciones fueron finitas por lo que es probable que las clases sean linealmente separables."
      ]
    },
    {
      "cell_type": "code",
      "execution_count": null,
      "metadata": {
        "id": "YCiAhJmwZRxM"
      },
      "outputs": [],
      "source": [
        "from sklearn.model_selection import GridSearchCV\n",
        "from sklearn.linear_model import LogisticRegression\n",
        "from sklearn.multiclass import OneVsRestClassifier\n"
      ]
    },
    {
      "cell_type": "code",
      "execution_count": null,
      "metadata": {
        "id": "xbMOzTVnVfmW"
      },
      "outputs": [],
      "source": [
        "#Creación del modelo con el parametro de ovr\n",
        "\n",
        "lr = LogisticRegression(random_state=0)\n",
        "lr = OneVsRestClassifier(lr)"
      ]
    },
    {
      "cell_type": "markdown",
      "metadata": {
        "id": "2bygXKM9ZawI"
      },
      "source": [
        "A continuación, se define la grilla de hiperparametros a explorar para encontrar los mejores para el problema. Se hacen varios grupos debido a las incompatibilidades que tienen algunas penalidades y solvers. Estas se pueden ver en la siguiente imagen."
      ]
    },
    {
      "cell_type": "markdown",
      "metadata": {
        "id": "aOBlP06bZoCY"
      },
      "source": [
        "![imagen.png](data:image/png;base64,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)"
      ]
    },
    {
      "cell_type": "markdown",
      "metadata": {
        "id": "iCbWwz7pETr6"
      },
      "source": [
        "Se planea probar los algoritmos sag (Ya que se desempeña bien con muchos datos y muchas features). Sin saga (Util para sets de datos muy grandes pero sag encaja mejor en el proposito). Se omite newton-cg por ser computacionalmente costoso. Tampoco se usara lbfgs ya que aveces puede tener problemas de convergencia a una solución. Por ultimo, no se usara liblinear para no crear muchas combinaciones de hiperparametros a probar, ademas, suele ser usado para problemas de clasificación mayor escala y con datos de muchas dimensionalidades.\n",
        "\n",
        "https://medium.com/codex/do-i-need-to-tune-logistic-regression-hyperparameters-1cb2b81fca69"
      ]
    },
    {
      "cell_type": "code",
      "execution_count": null,
      "metadata": {
        "id": "Wzjrqk9yZZTv"
      },
      "outputs": [],
      "source": [
        "param_grid = {\n",
        "    'estimator__penalty': ['l2'],\n",
        "    'estimator__C': [2, 3, 4],\n",
        "    'estimator__solver': ['sag'],\n",
        "    'estimator__max_iter': [1000]\n",
        "}\n",
        "#3 top\n",
        "#\n",
        "#,{\n",
        "#    'estimator__penalty': [None],\n",
        "#    'estimator__solver': ['sag'],\n",
        "#    'estimator__max_iter': [1000]\n",
        "#}\n",
        "#]"
      ]
    },
    {
      "cell_type": "code",
      "execution_count": null,
      "metadata": {
        "id": "6Eg69v-JoTJx"
      },
      "outputs": [],
      "source": [
        "from sklearn.metrics import make_scorer\n",
        "\n",
        "f1_scorer = make_scorer(f1_score, average='macro')"
      ]
    },
    {
      "cell_type": "code",
      "execution_count": null,
      "metadata": {
        "id": "hCFqjOhBZuDd"
      },
      "outputs": [],
      "source": [
        "#Ahora se construye la busqueda de los hiperparametros indicando que use todos los procesadores\n",
        "#disponibles y que divida los datos de entrenamienten 5 pedazos. Adicionalmente se busca optimimzar\n",
        "#el f1 score\n",
        "\n",
        "gs_lr_tfidf = GridSearchCV(lr, param_grid,\n",
        "                            cv=3, scoring=f1_scorer, n_jobs=1)"
      ]
    },
    {
      "cell_type": "code",
      "execution_count": null,
      "metadata": {
        "id": "nUXzG7cx277Z",
        "colab": {
          "base_uri": "https://localhost:8080/",
          "height": 158
        },
        "outputId": "bea1bb45-d329-47aa-8563-221ca542ca63"
      },
      "outputs": [
        {
          "output_type": "execute_result",
          "data": {
            "text/plain": [
              "GridSearchCV(cv=3,\n",
              "             estimator=OneVsRestClassifier(estimator=LogisticRegression(random_state=0)),\n",
              "             n_jobs=1,\n",
              "             param_grid={'estimator__C': [2, 3, 4],\n",
              "                         'estimator__max_iter': [1000],\n",
              "                         'estimator__penalty': ['l2'],\n",
              "                         'estimator__solver': ['sag']},\n",
              "             scoring=make_scorer(f1_score, average=macro))"
            ],
            "text/html": [
              "<style>#sk-container-id-2 {color: black;background-color: white;}#sk-container-id-2 pre{padding: 0;}#sk-container-id-2 div.sk-toggleable {background-color: white;}#sk-container-id-2 label.sk-toggleable__label {cursor: pointer;display: block;width: 100%;margin-bottom: 0;padding: 0.3em;box-sizing: border-box;text-align: center;}#sk-container-id-2 label.sk-toggleable__label-arrow:before {content: \"▸\";float: left;margin-right: 0.25em;color: #696969;}#sk-container-id-2 label.sk-toggleable__label-arrow:hover:before {color: black;}#sk-container-id-2 div.sk-estimator:hover label.sk-toggleable__label-arrow:before {color: black;}#sk-container-id-2 div.sk-toggleable__content {max-height: 0;max-width: 0;overflow: hidden;text-align: left;background-color: #f0f8ff;}#sk-container-id-2 div.sk-toggleable__content pre {margin: 0.2em;color: black;border-radius: 0.25em;background-color: #f0f8ff;}#sk-container-id-2 input.sk-toggleable__control:checked~div.sk-toggleable__content {max-height: 200px;max-width: 100%;overflow: auto;}#sk-container-id-2 input.sk-toggleable__control:checked~label.sk-toggleable__label-arrow:before {content: \"▾\";}#sk-container-id-2 div.sk-estimator input.sk-toggleable__control:checked~label.sk-toggleable__label {background-color: #d4ebff;}#sk-container-id-2 div.sk-label input.sk-toggleable__control:checked~label.sk-toggleable__label {background-color: #d4ebff;}#sk-container-id-2 input.sk-hidden--visually {border: 0;clip: rect(1px 1px 1px 1px);clip: rect(1px, 1px, 1px, 1px);height: 1px;margin: -1px;overflow: hidden;padding: 0;position: absolute;width: 1px;}#sk-container-id-2 div.sk-estimator {font-family: monospace;background-color: #f0f8ff;border: 1px dotted black;border-radius: 0.25em;box-sizing: border-box;margin-bottom: 0.5em;}#sk-container-id-2 div.sk-estimator:hover {background-color: #d4ebff;}#sk-container-id-2 div.sk-parallel-item::after {content: \"\";width: 100%;border-bottom: 1px solid gray;flex-grow: 1;}#sk-container-id-2 div.sk-label:hover label.sk-toggleable__label {background-color: #d4ebff;}#sk-container-id-2 div.sk-serial::before {content: \"\";position: absolute;border-left: 1px solid gray;box-sizing: border-box;top: 0;bottom: 0;left: 50%;z-index: 0;}#sk-container-id-2 div.sk-serial {display: flex;flex-direction: column;align-items: center;background-color: white;padding-right: 0.2em;padding-left: 0.2em;position: relative;}#sk-container-id-2 div.sk-item {position: relative;z-index: 1;}#sk-container-id-2 div.sk-parallel {display: flex;align-items: stretch;justify-content: center;background-color: white;position: relative;}#sk-container-id-2 div.sk-item::before, #sk-container-id-2 div.sk-parallel-item::before {content: \"\";position: absolute;border-left: 1px solid gray;box-sizing: border-box;top: 0;bottom: 0;left: 50%;z-index: -1;}#sk-container-id-2 div.sk-parallel-item {display: flex;flex-direction: column;z-index: 1;position: relative;background-color: white;}#sk-container-id-2 div.sk-parallel-item:first-child::after {align-self: flex-end;width: 50%;}#sk-container-id-2 div.sk-parallel-item:last-child::after {align-self: flex-start;width: 50%;}#sk-container-id-2 div.sk-parallel-item:only-child::after {width: 0;}#sk-container-id-2 div.sk-dashed-wrapped {border: 1px dashed gray;margin: 0 0.4em 0.5em 0.4em;box-sizing: border-box;padding-bottom: 0.4em;background-color: white;}#sk-container-id-2 div.sk-label label {font-family: monospace;font-weight: bold;display: inline-block;line-height: 1.2em;}#sk-container-id-2 div.sk-label-container {text-align: center;}#sk-container-id-2 div.sk-container {/* jupyter's `normalize.less` sets `[hidden] { display: none; }` but bootstrap.min.css set `[hidden] { display: none !important; }` so we also need the `!important` here to be able to override the default hidden behavior on the sphinx rendered scikit-learn.org. See: https://github.com/scikit-learn/scikit-learn/issues/21755 */display: inline-block !important;position: relative;}#sk-container-id-2 div.sk-text-repr-fallback {display: none;}</style><div id=\"sk-container-id-2\" class=\"sk-top-container\"><div class=\"sk-text-repr-fallback\"><pre>GridSearchCV(cv=3,\n",
              "             estimator=OneVsRestClassifier(estimator=LogisticRegression(random_state=0)),\n",
              "             n_jobs=1,\n",
              "             param_grid={&#x27;estimator__C&#x27;: [2, 3, 4],\n",
              "                         &#x27;estimator__max_iter&#x27;: [1000],\n",
              "                         &#x27;estimator__penalty&#x27;: [&#x27;l2&#x27;],\n",
              "                         &#x27;estimator__solver&#x27;: [&#x27;sag&#x27;]},\n",
              "             scoring=make_scorer(f1_score, average=macro))</pre><b>In a Jupyter environment, please rerun this cell to show the HTML representation or trust the notebook. <br />On GitHub, the HTML representation is unable to render, please try loading this page with nbviewer.org.</b></div><div class=\"sk-container\" hidden><div class=\"sk-item sk-dashed-wrapped\"><div class=\"sk-label-container\"><div class=\"sk-label sk-toggleable\"><input class=\"sk-toggleable__control sk-hidden--visually\" id=\"sk-estimator-id-4\" type=\"checkbox\" ><label for=\"sk-estimator-id-4\" class=\"sk-toggleable__label sk-toggleable__label-arrow\">GridSearchCV</label><div class=\"sk-toggleable__content\"><pre>GridSearchCV(cv=3,\n",
              "             estimator=OneVsRestClassifier(estimator=LogisticRegression(random_state=0)),\n",
              "             n_jobs=1,\n",
              "             param_grid={&#x27;estimator__C&#x27;: [2, 3, 4],\n",
              "                         &#x27;estimator__max_iter&#x27;: [1000],\n",
              "                         &#x27;estimator__penalty&#x27;: [&#x27;l2&#x27;],\n",
              "                         &#x27;estimator__solver&#x27;: [&#x27;sag&#x27;]},\n",
              "             scoring=make_scorer(f1_score, average=macro))</pre></div></div></div><div class=\"sk-parallel\"><div class=\"sk-parallel-item\"><div class=\"sk-item\"><div class=\"sk-label-container\"><div class=\"sk-label sk-toggleable\"><input class=\"sk-toggleable__control sk-hidden--visually\" id=\"sk-estimator-id-5\" type=\"checkbox\" ><label for=\"sk-estimator-id-5\" class=\"sk-toggleable__label sk-toggleable__label-arrow\">estimator: OneVsRestClassifier</label><div class=\"sk-toggleable__content\"><pre>OneVsRestClassifier(estimator=LogisticRegression(random_state=0))</pre></div></div></div><div class=\"sk-serial\"><div class=\"sk-item sk-dashed-wrapped\"><div class=\"sk-parallel\"><div class=\"sk-parallel-item\"><div class=\"sk-item\"><div class=\"sk-label-container\"><div class=\"sk-label sk-toggleable\"><input class=\"sk-toggleable__control sk-hidden--visually\" id=\"sk-estimator-id-6\" type=\"checkbox\" ><label for=\"sk-estimator-id-6\" class=\"sk-toggleable__label sk-toggleable__label-arrow\">estimator: LogisticRegression</label><div class=\"sk-toggleable__content\"><pre>LogisticRegression(random_state=0)</pre></div></div></div><div class=\"sk-serial\"><div class=\"sk-item\"><div class=\"sk-estimator sk-toggleable\"><input class=\"sk-toggleable__control sk-hidden--visually\" id=\"sk-estimator-id-7\" type=\"checkbox\" ><label for=\"sk-estimator-id-7\" class=\"sk-toggleable__label sk-toggleable__label-arrow\">LogisticRegression</label><div class=\"sk-toggleable__content\"><pre>LogisticRegression(random_state=0)</pre></div></div></div></div></div></div></div></div></div></div></div></div></div></div></div>"
            ]
          },
          "metadata": {},
          "execution_count": 83
        }
      ],
      "source": [
        "  #Busqueda de los hiperparametros y entrenamiento del mejor modelo\n",
        "gs_lr_tfidf.fit(x_train, y_train)"
      ]
    },
    {
      "cell_type": "code",
      "execution_count": null,
      "metadata": {
        "id": "LhNx1OQd3RHH",
        "colab": {
          "base_uri": "https://localhost:8080/"
        },
        "outputId": "09c0131c-d102-4ce8-943f-1e6b386f85b1"
      },
      "outputs": [
        {
          "output_type": "execute_result",
          "data": {
            "text/plain": [
              "{'estimator__C': 3,\n",
              " 'estimator__max_iter': 1000,\n",
              " 'estimator__penalty': 'l2',\n",
              " 'estimator__solver': 'sag'}"
            ]
          },
          "metadata": {},
          "execution_count": 84
        }
      ],
      "source": [
        "#Mejores parametros entre los explorados\n",
        "gs_lr_tfidf.best_params_"
      ]
    },
    {
      "cell_type": "code",
      "execution_count": null,
      "metadata": {
        "id": "Oq9R9wpG2jEd"
      },
      "outputs": [],
      "source": [
        "#Mejor estimador\n",
        "lr_final = gs_lr_tfidf.best_estimator_\n",
        "#Calculo de predicciones sobre los datos de entrenamiento y prueba\n",
        "y_pred_train = lr_final.predict(x_train)\n",
        "y_pred_test = lr_final.predict(x_test)"
      ]
    },
    {
      "cell_type": "code",
      "execution_count": null,
      "metadata": {
        "id": "dWwRYqTtptDv",
        "colab": {
          "base_uri": "https://localhost:8080/"
        },
        "outputId": "91bd83c6-e4d1-4728-c8d7-7d4ee38853dc"
      },
      "outputs": [
        {
          "output_type": "execute_result",
          "data": {
            "text/plain": [
              "0.4314801008365647"
            ]
          },
          "metadata": {},
          "execution_count": 86
        }
      ],
      "source": [
        "#Mejor promedio entre las 3 validaciones de f1 score\n",
        "gs_lr_tfidf.best_score_"
      ]
    },
    {
      "cell_type": "code",
      "execution_count": null,
      "metadata": {
        "id": "llW7V-JklYqe",
        "colab": {
          "base_uri": "https://localhost:8080/"
        },
        "outputId": "481a156c-5dce-4569-ea3e-ff9e5b788a65"
      },
      "outputs": [
        {
          "output_type": "stream",
          "name": "stdout",
          "text": [
            "              precision    recall  f1-score   support\n",
            "\n",
            "           1       0.97      0.90      0.94       635\n",
            "           2       0.94      0.89      0.91       912\n",
            "           3       0.91      0.87      0.89      1223\n",
            "           4       0.88      0.87      0.87      1576\n",
            "           5       0.87      0.95      0.91      1897\n",
            "\n",
            "    accuracy                           0.90      6243\n",
            "   macro avg       0.92      0.90      0.90      6243\n",
            "weighted avg       0.90      0.90      0.90      6243\n",
            "\n",
            "              precision    recall  f1-score   support\n",
            "\n",
            "           1       0.50      0.39      0.44       154\n",
            "           2       0.44      0.34      0.38       248\n",
            "           3       0.38      0.35      0.36       330\n",
            "           4       0.40      0.39      0.39       387\n",
            "           5       0.55      0.72      0.62       442\n",
            "\n",
            "    accuracy                           0.47      1561\n",
            "   macro avg       0.46      0.44      0.44      1561\n",
            "weighted avg       0.46      0.47      0.46      1561\n",
            "\n"
          ]
        }
      ],
      "source": [
        "#Metricas de predicciones vs originales\n",
        "print(classification_report(y_train, y_pred_train))\n",
        "print(classification_report(y_test, y_pred_test))"
      ]
    },
    {
      "cell_type": "markdown",
      "metadata": {
        "id": "CUvYjgVBPeuP"
      },
      "source": [
        "En las tablas anteriores se pueden observar las metricas sobre los clasificadores que componen el clasificador de uno contra el resto (determinan si un registro es de una clase o es de alguna otra). Se puede destacar que se obtuvo un f1-score de 0.47. Esto no es bueno ni malo, es regular. Este puntaje es la media de los f1-scores individuales de cada clasificador de uno contra el resto. El f1-score corresponde a una media armonica entre la precisión y el recall. La precisión es un porcentaje de cuantas se acertaron entre todas las marcadas como dicha clase. El recall es un porcentaje de cuantas se acertaron entre todas las que verdaderamente eran de esa clase.\n",
        "\n",
        "Se puede observar que el 72% de las que verdaderamente eran una calificación de 5, fueron acertadas. Esto no es excelente pero es bueno porque con el clasificador se puede ver que caracterizan las reseñas de calificación 5 y poder ver los factores en la experiencia de los clientes que influyen en lograr esta calificación. De esta forma se puede lograr el objetivo de ver que hace a los sitios turisticos atractivos. Entre todos los marcados como 5, se acerto el 55%, lo cual es regular puesto que el modelo podria estar marcando muchos datos de otra clase como de la suya. No obstante, como se vera más adelante, estos falsos positivos podrian corresponder a clases cercanas como 4, que tambien indican satisfacción. De esta forma se puede mantener que se pueden caracterizar los sitios atractivos.\n",
        "\n",
        "Los clasificadores de la clase 1 a la clase 4 tienen un recall menor a 0.39, lo cual se podria considerar malo puesto que solo esta reconociendo cerca del 40% de los datos que verdaderamente esa calificación. De la misma manera ocurre con la precisión, las precisiones de estas clases son menores del 50%, osea aciertan la mitad de lo que marcan como de esa clase lo cual se podria comparar con el azar. No obstante, como se vera más adelante, y como ya se menciono previamente, los malos resultados pueden ser atribuidos a la cercania entre 2 clases. Como por ejemplo la clase 1 y 2 que ambas indican mala calificación, por esto pueden tener caracteristicas similares y causar confusión en el modelo y en la clasificación."
      ]
    },
    {
      "cell_type": "code",
      "execution_count": null,
      "metadata": {
        "id": "qb2rjyPOla9P",
        "colab": {
          "base_uri": "https://localhost:8080/",
          "height": 449
        },
        "outputId": "d75d3928-4b1c-445a-d4a8-860a353bdf56"
      },
      "outputs": [
        {
          "output_type": "display_data",
          "data": {
            "text/plain": [
              "<Figure size 640x480 with 2 Axes>"
            ],
            "image/png": "[encoded data removed]"
          },
          "metadata": {}
        }
      ],
      "source": [
        "#Matriz de confusión para ver como se distribuyen los datos de prueba en las clases\n",
        "# y la cantidad de aciertos y errores\n",
        "from sklearn.metrics import ConfusionMatrixDisplay\n",
        "cm = confusion_matrix(y_test, y_pred_test)\n",
        "disp = ConfusionMatrixDisplay(confusion_matrix=cm, display_labels=lr_final.classes_)\n",
        "disp.plot(cmap=plt.cm.Blues)\n",
        "\n",
        "plt.show()"
      ]
    },
    {
      "cell_type": "markdown",
      "metadata": {
        "id": "OQkkxK-BUIlQ"
      },
      "source": [
        "En la matriz de confusión no se ven resultados tan negativos como los descritos previamente en las metricas. Esto se debe a que se ve con mayor oscuridad la diagonal de arriba-izquierda a abajo-derecha. En cuanto más oscuras estos cuadrados, indica que se acertaron más valores de esas clases y mejor sera el modelo. Estos cuadrados de la diagonal se les llama la cantidad de verdaderos positivos. Puesto que se clasificaron como esa clase y en realidad si son de esa clase. No obstante, puede que la diagonal no este tan oscura pero se puede observar que la diagonal junto con los cuadrados arriba y abajo de cada cuadrado de esta son más oscuros con respecto al resto de la matriz. Por lo que se puede ver como los errores (falsos positivos o falsos negativos), que se representan como todas las cajas diferentes a las de la diagonal mencionada, son en su mayoria vecinos a los cuadrados de verdaderos positivos. Lo anterior implica que la mayoria de los errores que ocurrieron fueron en clases cercanas a la verdadera. En la mayoria de clasificadores viendo las filas, osea por true label se pueden ver los falsos negativos en las clases vecinas a la izquierda y derecha de el verdadero positivo. Para la clase 1 y 5 se puede ver que los falsos negativos estan en las 2 clases vecinas.\n",
        "\n",
        "Con todo esto en cuenta, se puede decir que el modelo puede distinguir que es una buena experiencia y que es una mala. Puesto que se acerca a clases similares asi falle. Se observa como la clase 1 (terrible) experiencia los errores son principalemente con la clase 2. En la clase 4, se ve como los errores son principalmente con la clase 5. Entonces, se podria decir que para las clases cercanas se le dificulta distinguir que clase es la correcta ya que pueden representar cosas similares 1 = terrible y 2 = malo. Esto puede ocurrir por la existencia de palabras negativas comunes entre ambas clases lo cual lleva al error de clasificación.\n",
        "\n",
        "Las razones por las cuales esto pudo ocurrir podrian ser:\n",
        "1. La similitud entre las clases o su cercania.\n",
        "2. La falta de datos de algunas clases que si se tuvieran más datos, se pudo haber hallado más factores diferenciadores y caracteristicos de esa clase.\n",
        "\n",
        "No obstante, se pueden ver las clases mayores a 3 y menores a 3 y asi cumplir con el objetivo del negocio de caracterizar los malos sitios turisticos y los buenos basandose en las palabras usadas para clasificar y sus importancias. Esto significa que es posible que si se entrenara un modelo binario, se podrian obtener mejores resultados y ver con claridad las caracterizaciones. Aunque, eso incumpliria con el objetivo de negocio de tener un mecanismo automatico que califique un sitio en base a un texto.\n",
        "\n",
        "Con la caracterización y con el mecanismo que califique sitios turisticos se podra cumplir con el objetivo de negocio de ver oportunidades de mejora. Puede que no sea muy preciso el mecanismo automatico pero se acercara a las calificaciones reales por un punto en la mayoria de casos como se observa en la matriz."
      ]
    },
    {
      "cell_type": "code",
      "execution_count": null,
      "metadata": {
        "id": "Y40WJA5r9Kk7",
        "colab": {
          "base_uri": "https://localhost:8080/"
        },
        "outputId": "1e8748f0-5548-43a7-8d18-2ca2b5563950"
      },
      "outputs": [
        {
          "output_type": "stream",
          "name": "stdout",
          "text": [
            "####################1####################\n",
            "                feature  coefficient  sign\n",
            "0                cereal     2.394113  -1.0\n",
            "1                resena     2.468939   1.0\n",
            "2          interminable     2.493534   1.0\n",
            "3              realista     2.496400  -1.0\n",
            "4                limpie     2.565205   1.0\n",
            "5             asignaran     2.579231   1.0\n",
            "6              desperto     2.663956  -1.0\n",
            "7              conducto     2.945793   1.0\n",
            "8         precolombiano     3.037566   1.0\n",
            "9   arquitecronicamente     3.152400   1.0\n",
            "10                labor     3.287006  -1.0\n",
            "11        preciocalidad     3.296318   1.0\n",
            "12             empapado     3.332861  -1.0\n",
            "13              picante     3.336935   1.0\n",
            "14           guardaropa     3.873293   1.0\n",
            "15              vayasma     4.399727  -1.0\n",
            "16              ustedma     4.406628   1.0\n",
            "17               tallir     4.458524   1.0\n",
            "18       desplazamiento     5.184433  -1.0\n",
            "19              reclame     5.314021   1.0\n",
            "\n",
            "####################2####################\n",
            "             feature  coefficient  sign\n",
            "0            champan     2.223823   1.0\n",
            "1        convencerno     2.232154  -1.0\n",
            "2            trabada     2.267729   1.0\n",
            "3              palmo     2.286478   1.0\n",
            "4         conciergir     2.331543   1.0\n",
            "5             hagais     2.343096   1.0\n",
            "6   inteminabletotal     2.430228   1.0\n",
            "7             artesa     2.478477   1.0\n",
            "8           escritor     2.546048   1.0\n",
            "9             pintir     2.634741   1.0\n",
            "10          ciclismo     2.635071  -1.0\n",
            "11            mimosa     2.646303  -1.0\n",
            "12         terapeuta     2.784039   1.0\n",
            "13         mantelito     2.796547  -1.0\n",
            "14              fort     2.824593  -1.0\n",
            "15            irrito     3.311064   1.0\n",
            "16            labora     3.390225   1.0\n",
            "17     precolombiano     3.880323   1.0\n",
            "18            pipisa     4.169262   1.0\n",
            "19    desplazamiento     5.092967  -1.0\n",
            "\n",
            "####################3####################\n",
            "           feature  coefficient  sign\n",
            "0          cordero     2.246267   1.0\n",
            "1          regular     2.297708  -1.0\n",
            "2         escuelar     2.324662   1.0\n",
            "3            boina     2.379199  -1.0\n",
            "4         divertir     2.379734  -1.0\n",
            "5          gastado     2.471995  -1.0\n",
            "6      promocionar     2.477723   1.0\n",
            "7          reclame     2.522377  -1.0\n",
            "8      popularidad     2.667726   1.0\n",
            "9         engancha     2.790374   1.0\n",
            "10      repeticion     2.833587  -1.0\n",
            "11          cereal     2.856747  -1.0\n",
            "12   actualizacion     2.914122   1.0\n",
            "13        ciclismo     3.130248  -1.0\n",
            "14         ovation     3.508179   1.0\n",
            "15         ayudara     3.510181   1.0\n",
            "16       parroquia     3.558157   1.0\n",
            "17             bas     3.779243   1.0\n",
            "18         lizette     4.384309  -1.0\n",
            "19  desplazamiento     4.556684  -1.0\n",
            "\n",
            "####################4####################\n",
            "          feature  coefficient  sign\n",
            "0      restringen     2.006299   1.0\n",
            "1     desmereceir     2.008836   1.0\n",
            "2        regadera     2.092509  -1.0\n",
            "3         viajara     2.142534   1.0\n",
            "4         tiramos     2.181950   1.0\n",
            "5         choriso     2.188924   1.0\n",
            "6         deberia     2.218653  -1.0\n",
            "7            alao     2.280477   1.0\n",
            "8          common     2.284425   1.0\n",
            "9          banera     2.304301  -1.0\n",
            "10       foraneos     2.311077  -1.0\n",
            "11     guardaropa     2.336713  -1.0\n",
            "12           tres     2.381838  -1.0\n",
            "13         paleta     2.390061   1.0\n",
            "14  precolombiano     2.446894  -1.0\n",
            "15          cocer     2.560194   1.0\n",
            "16        ustedma     2.601526  -1.0\n",
            "17        reclame     3.070706  -1.0\n",
            "18         pipisa     4.139610  -1.0\n",
            "19        vayasma     4.630555   1.0\n",
            "\n",
            "####################5####################\n",
            "           feature  coefficient  sign\n",
            "0     calientefrio     2.847964  -1.0\n",
            "1            boina     2.874648   1.0\n",
            "2          picante     2.877180  -1.0\n",
            "3    representante     2.887060   1.0\n",
            "4      visitarloen     2.892896   1.0\n",
            "5         sucedido     2.952789   1.0\n",
            "6       repeticion     2.981938   1.0\n",
            "7              cin     3.034245  -1.0\n",
            "8          reclame     3.056382  -1.0\n",
            "9       intrincado     3.092332   1.0\n",
            "10          cereal     3.218291   1.0\n",
            "11         enviado     3.309306  -1.0\n",
            "12          tallir     3.330497  -1.0\n",
            "13        ciclismo     3.392107   1.0\n",
            "14          pipisa     3.490675  -1.0\n",
            "15        blamange     3.591748   1.0\n",
            "16         ustedma     3.851873  -1.0\n",
            "17   precolombiano     3.869990  -1.0\n",
            "18             bas     3.893620  -1.0\n",
            "19  desplazamiento     7.068480   1.0\n",
            "\n"
          ]
        },
        {
          "output_type": "stream",
          "name": "stderr",
          "text": [
            "<ipython-input-89-7b1f3dab0bc8>:5: RuntimeWarning: invalid value encountered in divide\n",
            "  coefsSign = coefs / abs(coefs)\n",
            "<ipython-input-89-7b1f3dab0bc8>:5: RuntimeWarning: invalid value encountered in divide\n",
            "  coefsSign = coefs / abs(coefs)\n",
            "<ipython-input-89-7b1f3dab0bc8>:5: RuntimeWarning: invalid value encountered in divide\n",
            "  coefsSign = coefs / abs(coefs)\n",
            "<ipython-input-89-7b1f3dab0bc8>:5: RuntimeWarning: invalid value encountered in divide\n",
            "  coefsSign = coefs / abs(coefs)\n",
            "<ipython-input-89-7b1f3dab0bc8>:5: RuntimeWarning: invalid value encountered in divide\n",
            "  coefsSign = coefs / abs(coefs)\n"
          ]
        }
      ],
      "source": [
        "#Mostrar para cada subclasificador las variables explicativas (palabras) más significativas\n",
        "#y como afectan la selección\n",
        "for i, clf in enumerate(lr_final.estimators_):\n",
        "  coefs = clf.coef_.flatten()\n",
        "  coefsSign = coefs / abs(coefs)\n",
        "  coefs = abs(coefs)\n",
        "  top_indices = coefs.argsort()[-20:]\n",
        "  top_features = lr_final.estimators_[i].feature_names_in_[top_indices]\n",
        "  class_data = pd.DataFrame({'feature': top_features, 'coefficient': coefs[top_indices], 'sign': coefsSign[top_indices]})\n",
        "  print(\"####################\" + str(lr_final.classes_[i]) + \"####################\")\n",
        "  print(class_data)\n",
        "  print()"
      ]
    },
    {
      "cell_type": "markdown",
      "metadata": {
        "id": "XEF74mYIg40B"
      },
      "source": [
        "Anteriormente, se pueden ver 5 tablas con las palabras que más influenciaban cada clasificador. En estas tablas se puede ver la fuerza que ejercian sobre las clasificaciones. Adicionalmente, se puede ver la dirección del efecto, los negativos llevaban a la clase negativa (osea que no es de esa clase que estaba identificando el clasificador), los positivos llevaban a la clase positiva (la clase del clasificador). Esto se ve claramente ya que en la formula vista previamente, en la expresión lineal, si el coeficiente es positivo, cada que crece esa variable explicativa, más crecera la probabilidad de la clase positiva y probablemente el dato sea clasificado como esta. Si es negativo, al crecer la variable, decrecera la probabilidad y probablemente esa entrada sea clasificada como otra clase. De esta forma, viendo los positivos y de mayor coeficiente, podemos ver las que más influencian la clase a estudiar. Este analisis se hara en la parte cualitativa donde se observaran los conceptos principales que caracterizan cada clase.\n",
        "\n",
        "Aun asi se puede ver como hay palabras que en las clases buenas (4 y 5) tienen un efecto positivo mientras que en las clases bajas (1,2 y 3) tienen efecto negativo, respaldando la separación entre bueno y malo mencionada previamente."
      ]
    },
    {
      "cell_type": "markdown",
      "metadata": {
        "id": "kUjMWfWrhoYz"
      },
      "source": [
        "## Selección del mejor modelo"
      ]
    },
    {
      "cell_type": "markdown",
      "source": [
        "Al momento de seleccionar el mejor modelo de los 3 que se realizaron, utilizando árboles de decisión, Naive Bayes y regresión logística, una buena forma de comparar la calidad de los modelos es con el F1 score. Este métrica representa la precisión y exhaustividad del modelo en una sola medida, lo que lo hace útil para evaluar el equilibrio entre falsos positivos y falsos negativos. Un F1 score más alto indica un mejor equilibrio entre precisión y exhaustividad, lo que significa que el modelo tiene un mejor rendimiento general en la clasificación.\n",
        "\n",
        "En cuanto a los F1 scores obtenidos para cada modelo, fueron 0.33 para árboles de decisión, 0.29 para Naive Bayes y 0.47 para regresión logística, tal y como se puede ver en las secciones anteriores. A partir de estos resultados, se determina que el modelo de regresión logística es el más efectivo, ya que alcanzó el F1 score más alto entre los tres algoritmos evaluados. Esto sugiere que la regresión logística logró un mejor equilibrio entre precisión y exhaustividad en la clasificación de los datos en comparación con los otros dos modelos, por lo que podemos decir que este es nuestro mejor modelo."
      ],
      "metadata": {
        "id": "fk4zQIUtTp6G"
      }
    },
    {
      "cell_type": "markdown",
      "metadata": {
        "id": "0MmAfx6saVQF"
      },
      "source": [
        "# Resultados (20%)"
      ]
    },
    {
      "cell_type": "code",
      "execution_count": null,
      "metadata": {
        "id": "wb4H3GLRwh1A",
        "colab": {
          "base_uri": "https://localhost:8080/"
        },
        "outputId": "7b1bf673-040a-467c-a278-ac9b56777b28"
      },
      "outputs": [
        {
          "output_type": "stream",
          "name": "stdout",
          "text": [
            "####################1####################\n",
            "                feature  coefficient  sign\n",
            "0                cereal     2.394113  -1.0\n",
            "1                resena     2.468939   1.0\n",
            "2          interminable     2.493534   1.0\n",
            "3              realista     2.496400  -1.0\n",
            "4                limpie     2.565205   1.0\n",
            "5             asignaran     2.579231   1.0\n",
            "6              desperto     2.663956  -1.0\n",
            "7              conducto     2.945793   1.0\n",
            "8         precolombiano     3.037566   1.0\n",
            "9   arquitecronicamente     3.152400   1.0\n",
            "10                labor     3.287006  -1.0\n",
            "11        preciocalidad     3.296318   1.0\n",
            "12             empapado     3.332861  -1.0\n",
            "13              picante     3.336935   1.0\n",
            "14           guardaropa     3.873293   1.0\n",
            "15              vayasma     4.399727  -1.0\n",
            "16              ustedma     4.406628   1.0\n",
            "17               tallir     4.458524   1.0\n",
            "18       desplazamiento     5.184433  -1.0\n",
            "19              reclame     5.314021   1.0\n",
            "\n",
            "####################2####################\n",
            "             feature  coefficient  sign\n",
            "0            champan     2.223823   1.0\n",
            "1        convencerno     2.232154  -1.0\n",
            "2            trabada     2.267729   1.0\n",
            "3              palmo     2.286478   1.0\n",
            "4         conciergir     2.331543   1.0\n",
            "5             hagais     2.343096   1.0\n",
            "6   inteminabletotal     2.430228   1.0\n",
            "7             artesa     2.478477   1.0\n",
            "8           escritor     2.546048   1.0\n",
            "9             pintir     2.634741   1.0\n",
            "10          ciclismo     2.635071  -1.0\n",
            "11            mimosa     2.646303  -1.0\n",
            "12         terapeuta     2.784039   1.0\n",
            "13         mantelito     2.796547  -1.0\n",
            "14              fort     2.824593  -1.0\n",
            "15            irrito     3.311064   1.0\n",
            "16            labora     3.390225   1.0\n",
            "17     precolombiano     3.880323   1.0\n",
            "18            pipisa     4.169262   1.0\n",
            "19    desplazamiento     5.092967  -1.0\n",
            "\n",
            "####################3####################\n",
            "           feature  coefficient  sign\n",
            "0          cordero     2.246267   1.0\n",
            "1          regular     2.297708  -1.0\n",
            "2         escuelar     2.324662   1.0\n",
            "3            boina     2.379199  -1.0\n",
            "4         divertir     2.379734  -1.0\n",
            "5          gastado     2.471995  -1.0\n",
            "6      promocionar     2.477723   1.0\n",
            "7          reclame     2.522377  -1.0\n",
            "8      popularidad     2.667726   1.0\n",
            "9         engancha     2.790374   1.0\n",
            "10      repeticion     2.833587  -1.0\n",
            "11          cereal     2.856747  -1.0\n",
            "12   actualizacion     2.914122   1.0\n",
            "13        ciclismo     3.130248  -1.0\n",
            "14         ovation     3.508179   1.0\n",
            "15         ayudara     3.510181   1.0\n",
            "16       parroquia     3.558157   1.0\n",
            "17             bas     3.779243   1.0\n",
            "18         lizette     4.384309  -1.0\n",
            "19  desplazamiento     4.556684  -1.0\n",
            "\n",
            "####################4####################\n",
            "          feature  coefficient  sign\n",
            "0      restringen     2.006299   1.0\n",
            "1     desmereceir     2.008836   1.0\n",
            "2        regadera     2.092509  -1.0\n",
            "3         viajara     2.142534   1.0\n",
            "4         tiramos     2.181950   1.0\n",
            "5         choriso     2.188924   1.0\n",
            "6         deberia     2.218653  -1.0\n",
            "7            alao     2.280477   1.0\n",
            "8          common     2.284425   1.0\n",
            "9          banera     2.304301  -1.0\n",
            "10       foraneos     2.311077  -1.0\n",
            "11     guardaropa     2.336713  -1.0\n",
            "12           tres     2.381838  -1.0\n",
            "13         paleta     2.390061   1.0\n",
            "14  precolombiano     2.446894  -1.0\n",
            "15          cocer     2.560194   1.0\n",
            "16        ustedma     2.601526  -1.0\n",
            "17        reclame     3.070706  -1.0\n",
            "18         pipisa     4.139610  -1.0\n",
            "19        vayasma     4.630555   1.0\n",
            "\n",
            "####################5####################\n",
            "           feature  coefficient  sign\n",
            "0     calientefrio     2.847964  -1.0\n",
            "1            boina     2.874648   1.0\n",
            "2          picante     2.877180  -1.0\n",
            "3    representante     2.887060   1.0\n",
            "4      visitarloen     2.892896   1.0\n",
            "5         sucedido     2.952789   1.0\n",
            "6       repeticion     2.981938   1.0\n",
            "7              cin     3.034245  -1.0\n",
            "8          reclame     3.056382  -1.0\n",
            "9       intrincado     3.092332   1.0\n",
            "10          cereal     3.218291   1.0\n",
            "11         enviado     3.309306  -1.0\n",
            "12          tallir     3.330497  -1.0\n",
            "13        ciclismo     3.392107   1.0\n",
            "14          pipisa     3.490675  -1.0\n",
            "15        blamange     3.591748   1.0\n",
            "16         ustedma     3.851873  -1.0\n",
            "17   precolombiano     3.869990  -1.0\n",
            "18             bas     3.893620  -1.0\n",
            "19  desplazamiento     7.068480   1.0\n",
            "\n"
          ]
        },
        {
          "output_type": "stream",
          "name": "stderr",
          "text": [
            "<ipython-input-90-7b1f3dab0bc8>:5: RuntimeWarning: invalid value encountered in divide\n",
            "  coefsSign = coefs / abs(coefs)\n",
            "<ipython-input-90-7b1f3dab0bc8>:5: RuntimeWarning: invalid value encountered in divide\n",
            "  coefsSign = coefs / abs(coefs)\n",
            "<ipython-input-90-7b1f3dab0bc8>:5: RuntimeWarning: invalid value encountered in divide\n",
            "  coefsSign = coefs / abs(coefs)\n",
            "<ipython-input-90-7b1f3dab0bc8>:5: RuntimeWarning: invalid value encountered in divide\n",
            "  coefsSign = coefs / abs(coefs)\n",
            "<ipython-input-90-7b1f3dab0bc8>:5: RuntimeWarning: invalid value encountered in divide\n",
            "  coefsSign = coefs / abs(coefs)\n"
          ]
        }
      ],
      "source": [
        "#Mostrar para cada subclasificador las variables explicativas (palabras) más significativas\n",
        "#y como afectan la selección\n",
        "for i, clf in enumerate(lr_final.estimators_):\n",
        "  coefs = clf.coef_.flatten()\n",
        "  coefsSign = coefs / abs(coefs)\n",
        "  coefs = abs(coefs)\n",
        "  top_indices = coefs.argsort()[-20:]\n",
        "  top_features = lr_final.estimators_[i].feature_names_in_[top_indices]\n",
        "  class_data = pd.DataFrame({'feature': top_features, 'coefficient': coefs[top_indices], 'sign': coefsSign[top_indices]})\n",
        "  print(\"####################\" + str(lr_final.classes_[i]) + \"####################\")\n",
        "  print(class_data)\n",
        "  print()"
      ]
    },
    {
      "cell_type": "markdown",
      "metadata": {
        "id": "NJS2pY0swHte"
      },
      "source": [
        "Para hacer el analisis cualitativo del mejor modelo y ver la información que se puede extraer de los modelos, con el fin de cumplir con los objetivos del negocio, se haran analisis sobre las palabras que fueron más relevantes sobre la elección de cada clase dentro del clasificador desarollado.\n",
        "\n",
        "Calificación 1:\n",
        "\n",
        "Para esta primera clase que representa una terrible experiencia en el sitio turistico. Entre las palabras influyentes para elegir esta clase, la de mayor incidencia e influencia en que una reseña se marcara como 1 fue \"reclame\", que probablemente se refiere a la necesidad de realizar reclamos dentro del sitio turistico. Esto indica necesidades o estandares no cumplidos para los visitantes. Por esto esta palabra puede representar que por defecto no se estaban cumpliendo los servicios para los clientes y hubo la necesidad de realizar reclamos que no sabemos si fueron atendidos o no. Otra palabra que aportaba a la selección de esta clase es \"guardaropa\" es posible que los visitantes tengan algun tipo de conflicto o problema con este servicio y que deberia ser revisado para garantizar la satisfacción de los clientes. Otra palabra a destacar entre las más influenciantes es \"limpie\", lo cual puede indicar alguna situación comun que se este presentando con la limpieza de los sitios. Por ultimo, se puede resaltar \"interminable\", lo cual puede referirse a esperas o aburrimiento durante algun tipo de servicio ofrecido por el sitio turistico.\n",
        "\n",
        "Calificación 2:\n",
        "\n",
        "Para esta calificación que denota tambien un mal servicio se pueden resaltar multiples aspectos. Primero que todo, se nota como una de las palabras con mayor incidencia es \"champan\" lo que puede indicar algun problema con los licores dentro del sitio turistico y que debe ser revisado para la satisfacción del cliente. Otra palabra es \"conciergir\" que puede referirse a los concerjes o concierges del sitio turistico los cuales pueden haber prestado mal servicio en las instalaciones, en la orientación o en la reserva y planeación de servicios. Otra palabra observada es \"irrito\" lo cual indica irritación por parte del cliente por molestias dadas o problemas de actitud en el lado de los empleados. Otra palabra a mencionar es \"trabada\" lo que puede señalar algun mal funcionamiento de algun equipo en las atracciones o demoras en algun servicio.\n",
        "\n",
        "Calificación 3:\n",
        "\n",
        "En la calificación 3, se suele indicar un servicio mediocre o regular pero ni bueno o ni malo. Se puede destacar la palabra \"ayudara\" que puede indicar o la falta de alguien que resolucione problemas o que a pesar de que hubo algun inconveniente alguien colaboro en la resolución. Otra palabra es \"cordero\" lo que puede indicar situaciones no esperadas con la comida o con algun animal en una atracción turistica.  Aparte de estas palabras, es dificil determinar alguna otra observación ya que al ser un nivel medio, no queda claro si una palabra indica algo positivo o negativo en el sitio turistico. Ejemplos de esto es \"popularidad\", \"parroquia\" o \"promocionar\".\n",
        "\n",
        "Calificación 4:\n",
        "\n",
        "Esta calificación indica algo que fue bueno, no excelente pero bueno. Entre las palabras más influyentes, se observa \"cocer\", esta puede indicar satisfacción con algun servicio de costureria que le fue util a algun cliente. Otra palabra que se observa es \"choriso\" lo cual puede indicar algun tipo de satisfacción con esta comida dentro del sitio turistico. Se notan tambien algunas palabras que alejan la reseña de la calificación de 4 que se presentaban en otras calificaciones inferiores, una de estas es \"guardaropa\", lo que valida el valor negativo de este aspecto en la calificación de 1. Una ultima palabra a mencionar que afecto positivamente es \"paleta\" lo cual puede referirse al alimento y la satisfacción de los clientes sobre este producto.\n",
        "\n",
        "Calificación 5:\n",
        "\n",
        "Esta calificación un servicio excelente y de la mayor satisfacción generada sobre el cliente. En esta calificación se pueden observar algunas palabras que alejaban de puntuaciones más bajas pero que aca se observa que acercan a este nivel de satisfacción. Un ejemplo de esto es \"desplazamiento\", es posible que esto se refiere a la falta de este y que los servicios son cercanos entre si dentro de un sitio turistico o que el sitio ofrece desplazamiento entre localizaciones. Otra palabra que tiene esta calificación es \"ciclismo\", lo que indica que los sitios turisticos que ofrecen alquiler o espacios para esta actividad suelen satisfacer a los clientes. Una palabra que aporta a la calificación de 5 es \"cereal\" lo que puede indicar la disponibilidad de este producto o alimento y la satisfacción gracias a este. Una ultima palabra a mencionar es \"representante\" que puede referirse a la existencia, disponibilidad o satisfacción con los representantes dentro del sitio turistico que pueden guiar, ayudar o hasta proveer los servicios ofrecidos.\n",
        "\n",
        "\n",
        "\n",
        "En base a la información obtenida se pueden tomar multiples estrategias por parte de la organización para mejorar los hoteles, aumentar su popularidad y fomentar el turismo.\n",
        "\n",
        "1. Hacer revisión de los servicios de limpieza en los hoteles. Esto se debe garantizar en base a la influencia de este componente en las calificaciónes negativas.\n",
        "2. Mejorar la atención ante reclamos y mejorar las ayudas que provee el hotel ante inquietudes o problemas que tienen los visitantes. Esto se debe realizar ya que las ayudas pueden mejorar la experiencia de los visitantes ya que sus inconvenientes son solucionados y se evitan reclamos repetitivos o incomodidades.\n",
        "3. Realizar evaluación de la eficiencia de los procesos y la calidad del entretenimiento ya que la palabra \"interminable\" destacó. Por esto se puede revisar opiniones sobre el entretenimiento y los tiempos promedios en los servicios y tomar medidas en el caso de que estos no sean satisfactorios.\n",
        "4. Establecer o revisar la presencia y calidad de los representantes o concierge. Esto se hace como consecuencia a que se vieron problemas con el termino \"concierge\" y positividad con \"representante\". Es fundamental mejorar estos personajes que ofrecen servicios y facilitan la consolidación de las expectativas de los visitantes, ademas de ayudar y proveer orientación a los mismos.\n",
        "5. Implementar o evaluar servicios clave observados. Entre estos servicios se observo el ciclismo, por lo que se puede ofrecer clases, espacios o alquiler de equipo de esta diciplina. Tambien, se pueden ofrecer servicios de desplazamiento a lugares turisticos desde el hotel o hacia terminales de transporte. Estos 2 servicios podrian mejorar la satisfacción de los visitantes basandonos en lo observado.\n",
        "6. Ampliación y revisión de los servicios alimenticios. Se puede proponer esta actividad como resultado de la positividad que aportaron a la calificación los alimentos como el chorizo, las paletas y los cereales. Incluir estos componentes, y proveerlos con calidad pueden mejorar la satisfacción en los clientes. Si estos ya estan presentes, entonces se puede revisar la calidad como puede ser con los licores, ya que la champagne fue marcada como algo negativo, por lo que hay que buscar proveer calidad en este producto.\n",
        "7. Evaluación de los guardaropas. Se debe revisar este servicio, tanto en los closets de las habitaciones como el servicio de almacenamiento de prendas en eventos. La razón por la cual se debe evaluar es el que este termino fue marcado como algo negativo.\n",
        "8. Evaluación de empleados. Se vio que la irritación fue algo negativo que fue resaltado por el modelo. Por esto mismo se debe revisar la actitud de los empleados en caso de que esten teniendo poca paciencia con los clientes y causandoles disgusto. Por otra parte, tambien se debe evaluar el desempeño de estos y la calidad de sus trabajos para evitar la irritación de los clientes.\n",
        "\n",
        "Con esta información y estrategias, se puede concluir que la organización podra tanto mejorar sus hoteles, ser más populares y mejorar la percepción de los clientes. Todo esto resultaria en mayor flujo de clientes, y claramente, beneficios economicos que pueden ayudar a crecer la organización, lo que beneficia a los stakeholders. Adicionalmente, con todos los descubrimientos, la dirección se acerca a lograr sus objetivos de caracterización de aspectos atractivos/positivos y negativos con el fin de tomar estrategias de mejoria. Los equipos de los hoteles podran mejorar la calidad de su trabajo con retroalimentación. El area de control de calidad podra identificar y solucionar problemas sobre los servicios. El area de marketing puede tomar inspiración de la información para promocionar y hacer atractivos los hoteles. El departamento de TI tendra el despliegue de la herramienta para determinar calificaciones de sitios por parte de clientes, aunque con poca precisión como se vio en el analisis de las metricas del modelo. Por ultimo, los clientes se beneficiaran de un mejor servicio y de la mejoria de las experiencias."
      ]
    },
    {
      "cell_type": "markdown",
      "source": [
        "# Etiquetar particion de prueba\n"
      ],
      "metadata": {
        "id": "iEHBOHtePxXl"
      }
    },
    {
      "cell_type": "code",
      "source": [
        "# Uso de la libreria pandas para la lectura de archivos\n",
        "data=pd.read_csv('tipo1_entrenamiento_estudiantes.csv', sep=',', encoding = 'utf-8')\n"
      ],
      "metadata": {
        "id": "zrzCuSXiTpA6"
      },
      "execution_count": null,
      "outputs": []
    },
    {
      "cell_type": "code",
      "source": [
        "# Cargar el archivo de datos\n",
        "data = pd.read_csv(\"particion_prueba_estudiantes.csv\", sep=',', encoding = 'utf-8')\n",
        "data_og = data.copy()"
      ],
      "metadata": {
        "id": "fGBBbdnaP6Cu"
      },
      "execution_count": null,
      "outputs": []
    },
    {
      "cell_type": "code",
      "source": [
        "# Preprocesamiento\n",
        "# Funciones de limpieza y preprocesamiento\n",
        "stop_words_spanish = set(stopwords.words('spanish'))\n",
        "\n",
        "def remove_non_ascii(words):\n",
        "    return [unicodedata.normalize('NFKD', word).encode('ascii', 'ignore').decode('utf-8', 'ignore') if word is not None else None for word in words]\n",
        "\n",
        "def to_lowercase(words):\n",
        "    return [word.lower() for word in words]\n",
        "\n",
        "def remove_punctuation(words):\n",
        "    return [re.sub(r'[^\\w\\s]', '', word) if word is not None else None for word in words]\n",
        "\n",
        "def replace_numbers(words):\n",
        "    p = inflect.engine()\n",
        "    return [p.number_to_words(word) if word.isdigit() else word for word in words if not any(char.isdigit() for char in word)]\n",
        "\n",
        "def remove_stopwords(words):\n",
        "    return [word for word in words if word not in stop_words_spanish]\n",
        "\n",
        "def remove_accidentals(words):\n",
        "    replacements = {'á': 'a', 'é': 'e', 'í': 'i', 'ó': 'o', 'ú': 'u', 'ü': 'u'}\n",
        "    return [''.join(replacements[char] if char in replacements else char for char in word) for word in words]\n",
        "\n",
        "def preprocessing(words):\n",
        "    words = to_lowercase(words)\n",
        "    words = replace_numbers(words)\n",
        "    words = remove_punctuation(words)\n",
        "    words = remove_non_ascii(words)\n",
        "    words = remove_stopwords(words)\n",
        "    return words\n",
        "\n",
        "# Tokenización y lematización\n",
        "data['Review'] = data['Review'].apply(contractions.fix)\n",
        "data['words'] = data['Review'].apply(word_tokenize)\n",
        "data['words'].dropna()\n",
        "data['words'] = data['words'].apply(preprocessing)\n",
        "\n",
        "nlp = spacy.load(\"es_core_news_sm\")\n",
        "def lemmatize_verbs(words):\n",
        "    doc = nlp(\" \".join(words))\n",
        "    return [token.lemma_ for token in doc]\n",
        "\n",
        "data['words'] = data['words'].apply(lemmatize_verbs)\n",
        "data['words'] = data['words'].apply(remove_accidentals)\n",
        "data['words'] = data['words'].apply(lambda x: ' '.join(map(str, x)))\n",
        "\n",
        "# Eliminación de espacios extra\n",
        "for index, row in data.iterrows():\n",
        "    data.loc[index, 'words'] = re.sub(r'\\s+', ' ', row['words'])\n",
        "\n",
        "# Creación de matriz TF-IDF\n",
        "tf_idf = TfidfVectorizer()\n",
        "X_tf_idf = tf_idf.fit_transform(data['words'])\n",
        "\n",
        "# Integración de las etiquetas\n",
        "data_new = pd.DataFrame(X_tf_idf.toarray(), columns=tf_idf.get_feature_names_out())\n",
        "\n",
        "# Eliminación de filas duplicadas\n",
        "# data_new = data_new.drop_duplicates()\n"
      ],
      "metadata": {
        "id": "FxQgRmDvQ-bg"
      },
      "execution_count": null,
      "outputs": []
    },
    {
      "cell_type": "code",
      "source": [
        "del data"
      ],
      "metadata": {
        "id": "QlmYk5fF-g3y"
      },
      "execution_count": null,
      "outputs": []
    },
    {
      "cell_type": "code",
      "source": [
        "# ordena correctamente los features\n",
        "data_new = data_new.reindex(columns=lr_final.feature_names_in_)"
      ],
      "metadata": {
        "id": "eK1q_6WsEc-K"
      },
      "execution_count": null,
      "outputs": []
    },
    {
      "cell_type": "code",
      "source": [
        "# Replaces Nan values from refit  with 0\n",
        "\n",
        "data_new.fillna(0, inplace=True)\n"
      ],
      "metadata": {
        "id": "IDPNPOYyRWRq"
      },
      "execution_count": null,
      "outputs": []
    },
    {
      "cell_type": "code",
      "source": [
        "# Get the features present in the training data but not in the test data\n",
        "missing_features = set(data_prep.columns) - set(data_new.columns)\n",
        "\n",
        "# Get the features present in the test data but not in the training data\n",
        "extra_features = set(data_new.columns) - set(data_prep.columns)"
      ],
      "metadata": {
        "id": "sOCOZx8CAlhH"
      },
      "execution_count": null,
      "outputs": []
    },
    {
      "cell_type": "code",
      "source": [
        "# Add the missing features to the test data with a default value (e.g., 0)\n",
        "for feature in missing_features:\n",
        "    data_new[feature] = 0"
      ],
      "metadata": {
        "id": "ExnQkqRlAmh2"
      },
      "execution_count": null,
      "outputs": []
    },
    {
      "cell_type": "code",
      "source": [
        "# Drop the extra features from the test data\n",
        "data_new.drop(columns=extra_features, inplace=True)"
      ],
      "metadata": {
        "id": "akuAntJjAoKd"
      },
      "execution_count": null,
      "outputs": []
    },
    {
      "cell_type": "code",
      "source": [
        "# Ensure that the data types of the features in the test data match those in the training data\n",
        "for feature in data_prep.columns:\n",
        "    data_new[feature] = data_new[feature].astype(data_prep[feature].dtype)"
      ],
      "metadata": {
        "id": "3h-HQhNKApTI"
      },
      "execution_count": null,
      "outputs": []
    },
    {
      "cell_type": "code",
      "source": [
        "# remove the class column from data_new\n",
        "\n",
        "data_new = data_new.drop('Class', axis=1)\n"
      ],
      "metadata": {
        "id": "S-ct5uOSCrE8"
      },
      "execution_count": null,
      "outputs": []
    },
    {
      "cell_type": "code",
      "source": [
        "# normalize all rows in the dataframe agian\n",
        "\n",
        "data_new = data_new.apply(lambda x: (x - x.min()) / (x.max() - x.min()), axis=1)\n"
      ],
      "metadata": {
        "id": "LvliweXwTHkS"
      },
      "execution_count": null,
      "outputs": []
    },
    {
      "cell_type": "code",
      "source": [
        "# Etiquetar los datos usando el mejor modelo entrenado\n",
        "data_og['Class'] = lr_final.predict(data_new)\n",
        "\n",
        "# Exportar el archivo con datos etiquetados\n",
        "data_og.to_csv(\"particion_prueba_estudiantes_etiquetado.csv\", index=False)"
      ],
      "metadata": {
        "id": "lDAFf1uRRK6H"
      },
      "execution_count": null,
      "outputs": []
    },
    {
      "cell_type": "code",
      "source": [
        "# imprime la distribucion de las etiqutas class\n",
        "\n",
        "data_og['Class'].value_counts().to_frame().reset_index().rename(columns={'index':'Class', 'Class':'Count'})\n"
      ],
      "metadata": {
        "colab": {
          "base_uri": "https://localhost:8080/",
          "height": 206
        },
        "id": "t-yIqiMyPuLC",
        "outputId": "4b160bbc-1b88-48e3-8bde-0964b265e5f9"
      },
      "execution_count": null,
      "outputs": [
        {
          "output_type": "execute_result",
          "data": {
            "text/plain": [
              "   Count  count\n",
              "0      5    900\n",
              "1      3    399\n",
              "2      4    300\n",
              "3      1     80\n",
              "4      2     71"
            ],
            "text/html": [
              "\n",
              "  <div id=\"df-aa4fcfb0-adb5-402d-989c-95308955a010\" class=\"colab-df-container\">\n",
              "    <div>\n",
              "<style scoped>\n",
              "    .dataframe tbody tr th:only-of-type {\n",
              "        vertical-align: middle;\n",
              "    }\n",
              "\n",
              "    .dataframe tbody tr th {\n",
              "        vertical-align: top;\n",
              "    }\n",
              "\n",
              "    .dataframe thead th {\n",
              "        text-align: right;\n",
              "    }\n",
              "</style>\n",
              "<table border=\"1\" class=\"dataframe\">\n",
              "  <thead>\n",
              "    <tr style=\"text-align: right;\">\n",
              "      <th></th>\n",
              "      <th>Count</th>\n",
              "      <th>count</th>\n",
              "    </tr>\n",
              "  </thead>\n",
              "  <tbody>\n",
              "    <tr>\n",
              "      <th>0</th>\n",
              "      <td>5</td>\n",
              "      <td>900</td>\n",
              "    </tr>\n",
              "    <tr>\n",
              "      <th>1</th>\n",
              "      <td>3</td>\n",
              "      <td>399</td>\n",
              "    </tr>\n",
              "    <tr>\n",
              "      <th>2</th>\n",
              "      <td>4</td>\n",
              "      <td>300</td>\n",
              "    </tr>\n",
              "    <tr>\n",
              "      <th>3</th>\n",
              "      <td>1</td>\n",
              "      <td>80</td>\n",
              "    </tr>\n",
              "    <tr>\n",
              "      <th>4</th>\n",
              "      <td>2</td>\n",
              "      <td>71</td>\n",
              "    </tr>\n",
              "  </tbody>\n",
              "</table>\n",
              "</div>\n",
              "    <div class=\"colab-df-buttons\">\n",
              "\n",
              "  <div class=\"colab-df-container\">\n",
              "    <button class=\"colab-df-convert\" onclick=\"convertToInteractive('df-aa4fcfb0-adb5-402d-989c-95308955a010')\"\n",
              "            title=\"Convert this dataframe to an interactive table.\"\n",
              "            style=\"display:none;\">\n",
              "\n",
              "  <svg xmlns=\"http://www.w3.org/2000/svg\" height=\"24px\" viewBox=\"0 -960 960 960\">\n",
              "    <path d=\"M120-120v-720h720v720H120Zm60-500h600v-160H180v160Zm220 220h160v-160H400v160Zm0 220h160v-160H400v160ZM180-400h160v-160H180v160Zm440 0h160v-160H620v160ZM180-180h160v-160H180v160Zm440 0h160v-160H620v160Z\"/>\n",
              "  </svg>\n",
              "    </button>\n",
              "\n",
              "  <style>\n",
              "    .colab-df-container {\n",
              "      display:flex;\n",
              "      gap: 12px;\n",
              "    }\n",
              "\n",
              "    .colab-df-convert {\n",
              "      background-color: #E8F0FE;\n",
              "      border: none;\n",
              "      border-radius: 50%;\n",
              "      cursor: pointer;\n",
              "      display: none;\n",
              "      fill: #1967D2;\n",
              "      height: 32px;\n",
              "      padding: 0 0 0 0;\n",
              "      width: 32px;\n",
              "    }\n",
              "\n",
              "    .colab-df-convert:hover {\n",
              "      background-color: #E2EBFA;\n",
              "      box-shadow: 0px 1px 2px rgba(60, 64, 67, 0.3), 0px 1px 3px 1px rgba(60, 64, 67, 0.15);\n",
              "      fill: #174EA6;\n",
              "    }\n",
              "\n",
              "    .colab-df-buttons div {\n",
              "      margin-bottom: 4px;\n",
              "    }\n",
              "\n",
              "    [theme=dark] .colab-df-convert {\n",
              "      background-color: #3B4455;\n",
              "      fill: #D2E3FC;\n",
              "    }\n",
              "\n",
              "    [theme=dark] .colab-df-convert:hover {\n",
              "      background-color: #434B5C;\n",
              "      box-shadow: 0px 1px 3px 1px rgba(0, 0, 0, 0.15);\n",
              "      filter: drop-shadow(0px 1px 2px rgba(0, 0, 0, 0.3));\n",
              "      fill: #FFFFFF;\n",
              "    }\n",
              "  </style>\n",
              "\n",
              "    <script>\n",
              "      const buttonEl =\n",
              "        document.querySelector('#df-aa4fcfb0-adb5-402d-989c-95308955a010 button.colab-df-convert');\n",
              "      buttonEl.style.display =\n",
              "        google.colab.kernel.accessAllowed ? 'block' : 'none';\n",
              "\n",
              "      async function convertToInteractive(key) {\n",
              "        const element = document.querySelector('#df-aa4fcfb0-adb5-402d-989c-95308955a010');\n",
              "        const dataTable =\n",
              "          await google.colab.kernel.invokeFunction('convertToInteractive',\n",
              "                                                    [key], {});\n",
              "        if (!dataTable) return;\n",
              "\n",
              "        const docLinkHtml = 'Like what you see? Visit the ' +\n",
              "          '<a target=\"_blank\" href=https://colab.research.google.com/notebooks/data_table.ipynb>data table notebook</a>'\n",
              "          + ' to learn more about interactive tables.';\n",
              "        element.innerHTML = '';\n",
              "        dataTable['output_type'] = 'display_data';\n",
              "        await google.colab.output.renderOutput(dataTable, element);\n",
              "        const docLink = document.createElement('div');\n",
              "        docLink.innerHTML = docLinkHtml;\n",
              "        element.appendChild(docLink);\n",
              "      }\n",
              "    </script>\n",
              "  </div>\n",
              "\n",
              "\n",
              "<div id=\"df-31e2cc31-eb23-401f-8233-27c3ae5b540d\">\n",
              "  <button class=\"colab-df-quickchart\" onclick=\"quickchart('df-31e2cc31-eb23-401f-8233-27c3ae5b540d')\"\n",
              "            title=\"Suggest charts\"\n",
              "            style=\"display:none;\">\n",
              "\n",
              "<svg xmlns=\"http://www.w3.org/2000/svg\" height=\"24px\"viewBox=\"0 0 24 24\"\n",
              "     width=\"24px\">\n",
              "    <g>\n",
              "        <path d=\"M19 3H5c-1.1 0-2 .9-2 2v14c0 1.1.9 2 2 2h14c1.1 0 2-.9 2-2V5c0-1.1-.9-2-2-2zM9 17H7v-7h2v7zm4 0h-2V7h2v10zm4 0h-2v-4h2v4z\"/>\n",
              "    </g>\n",
              "</svg>\n",
              "  </button>\n",
              "\n",
              "<style>\n",
              "  .colab-df-quickchart {\n",
              "      --bg-color: #E8F0FE;\n",
              "      --fill-color: #1967D2;\n",
              "      --hover-bg-color: #E2EBFA;\n",
              "      --hover-fill-color: #174EA6;\n",
              "      --disabled-fill-color: #AAA;\n",
              "      --disabled-bg-color: #DDD;\n",
              "  }\n",
              "\n",
              "  [theme=dark] .colab-df-quickchart {\n",
              "      --bg-color: #3B4455;\n",
              "      --fill-color: #D2E3FC;\n",
              "      --hover-bg-color: #434B5C;\n",
              "      --hover-fill-color: #FFFFFF;\n",
              "      --disabled-bg-color: #3B4455;\n",
              "      --disabled-fill-color: #666;\n",
              "  }\n",
              "\n",
              "  .colab-df-quickchart {\n",
              "    background-color: var(--bg-color);\n",
              "    border: none;\n",
              "    border-radius: 50%;\n",
              "    cursor: pointer;\n",
              "    display: none;\n",
              "    fill: var(--fill-color);\n",
              "    height: 32px;\n",
              "    padding: 0;\n",
              "    width: 32px;\n",
              "  }\n",
              "\n",
              "  .colab-df-quickchart:hover {\n",
              "    background-color: var(--hover-bg-color);\n",
              "    box-shadow: 0 1px 2px rgba(60, 64, 67, 0.3), 0 1px 3px 1px rgba(60, 64, 67, 0.15);\n",
              "    fill: var(--button-hover-fill-color);\n",
              "  }\n",
              "\n",
              "  .colab-df-quickchart-complete:disabled,\n",
              "  .colab-df-quickchart-complete:disabled:hover {\n",
              "    background-color: var(--disabled-bg-color);\n",
              "    fill: var(--disabled-fill-color);\n",
              "    box-shadow: none;\n",
              "  }\n",
              "\n",
              "  .colab-df-spinner {\n",
              "    border: 2px solid var(--fill-color);\n",
              "    border-color: transparent;\n",
              "    border-bottom-color: var(--fill-color);\n",
              "    animation:\n",
              "      spin 1s steps(1) infinite;\n",
              "  }\n",
              "\n",
              "  @keyframes spin {\n",
              "    0% {\n",
              "      border-color: transparent;\n",
              "      border-bottom-color: var(--fill-color);\n",
              "      border-left-color: var(--fill-color);\n",
              "    }\n",
              "    20% {\n",
              "      border-color: transparent;\n",
              "      border-left-color: var(--fill-color);\n",
              "      border-top-color: var(--fill-color);\n",
              "    }\n",
              "    30% {\n",
              "      border-color: transparent;\n",
              "      border-left-color: var(--fill-color);\n",
              "      border-top-color: var(--fill-color);\n",
              "      border-right-color: var(--fill-color);\n",
              "    }\n",
              "    40% {\n",
              "      border-color: transparent;\n",
              "      border-right-color: var(--fill-color);\n",
              "      border-top-color: var(--fill-color);\n",
              "    }\n",
              "    60% {\n",
              "      border-color: transparent;\n",
              "      border-right-color: var(--fill-color);\n",
              "    }\n",
              "    80% {\n",
              "      border-color: transparent;\n",
              "      border-right-color: var(--fill-color);\n",
              "      border-bottom-color: var(--fill-color);\n",
              "    }\n",
              "    90% {\n",
              "      border-color: transparent;\n",
              "      border-bottom-color: var(--fill-color);\n",
              "    }\n",
              "  }\n",
              "</style>\n",
              "\n",
              "  <script>\n",
              "    async function quickchart(key) {\n",
              "      const quickchartButtonEl =\n",
              "        document.querySelector('#' + key + ' button');\n",
              "      quickchartButtonEl.disabled = true;  // To prevent multiple clicks.\n",
              "      quickchartButtonEl.classList.add('colab-df-spinner');\n",
              "      try {\n",
              "        const charts = await google.colab.kernel.invokeFunction(\n",
              "            'suggestCharts', [key], {});\n",
              "      } catch (error) {\n",
              "        console.error('Error during call to suggestCharts:', error);\n",
              "      }\n",
              "      quickchartButtonEl.classList.remove('colab-df-spinner');\n",
              "      quickchartButtonEl.classList.add('colab-df-quickchart-complete');\n",
              "    }\n",
              "    (() => {\n",
              "      let quickchartButtonEl =\n",
              "        document.querySelector('#df-31e2cc31-eb23-401f-8233-27c3ae5b540d button');\n",
              "      quickchartButtonEl.style.display =\n",
              "        google.colab.kernel.accessAllowed ? 'block' : 'none';\n",
              "    })();\n",
              "  </script>\n",
              "</div>\n",
              "\n",
              "    </div>\n",
              "  </div>\n"
            ],
            "application/vnd.google.colaboratory.intrinsic+json": {
              "type": "dataframe",
              "summary": "{\n  \"name\": \"data_og['Class']\",\n  \"rows\": 5,\n  \"fields\": [\n    {\n      \"column\": \"Count\",\n      \"properties\": {\n        \"dtype\": \"number\",\n        \"std\": 1,\n        \"min\": 1,\n        \"max\": 5,\n        \"num_unique_values\": 5,\n        \"samples\": [\n          3,\n          2,\n          4\n        ],\n        \"semantic_type\": \"\",\n        \"description\": \"\"\n      }\n    },\n    {\n      \"column\": \"count\",\n      \"properties\": {\n        \"dtype\": \"number\",\n        \"std\": 338,\n        \"min\": 71,\n        \"max\": 900,\n        \"num_unique_values\": 5,\n        \"samples\": [\n          399,\n          71,\n          300\n        ],\n        \"semantic_type\": \"\",\n        \"description\": \"\"\n      }\n    }\n  ]\n}"
            }
          },
          "metadata": {},
          "execution_count": 286
        }
      ]
    }
  ],
  "metadata": {
    "colab": {
      "collapsed_sections": [
        "77vr5IhPajlS",
        "9JnLZST1b7Ar",
        "pY3xsYkfb8nQ",
        "Pl1DZ4K-cGUG",
        "FYsQyb5OcX3j",
        "87tofHvOaImh",
        "ejmKufkKaMrF",
        "0MmAfx6saVQF"
      ],
      "provenance": []
    },
    "kernelspec": {
      "display_name": "Python 3",
      "name": "python3"
    },
    "language_info": {
      "name": "python"
    }
  },
  "nbformat": 4,
  "nbformat_minor": 0
}